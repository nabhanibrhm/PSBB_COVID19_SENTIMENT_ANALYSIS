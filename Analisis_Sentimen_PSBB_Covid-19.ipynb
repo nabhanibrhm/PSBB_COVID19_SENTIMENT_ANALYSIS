{
 "cells": [
  {
   "cell_type": "markdown",
   "metadata": {},
   "source": [
    "# Analisis Sentimen PSBB COVID-19"
   ]
  },
  {
   "cell_type": "code",
   "execution_count": null,
   "metadata": {},
   "outputs": [],
   "source": []
  },
  {
   "cell_type": "markdown",
   "metadata": {},
   "source": [
    "## > Memanggil Library Yang Dibutuhkan"
   ]
  },
  {
   "cell_type": "code",
   "execution_count": 1,
   "metadata": {},
   "outputs": [],
   "source": [
    "#Memanggil Library Yang Dibutuhkan\n",
    "\n",
    "import tweepy\n",
    "import csv\n",
    "import re\n",
    "import pandas as pd\n",
    "import nltk\n",
    "import Sastrawi\n",
    "import sklearn\n",
    "import matplotlib.pyplot as plt"
   ]
  },
  {
   "cell_type": "markdown",
   "metadata": {},
   "source": [
    "## > Akuisisi Data"
   ]
  },
  {
   "cell_type": "code",
   "execution_count": null,
   "metadata": {},
   "outputs": [],
   "source": [
    "#Memasukkan dan Mengkoneksi API Twitter\n",
    "\n",
    "consumer_key=\"BCpVFK4D4IjkDfa3Zz1Ez0Ipi\"\n",
    "consumer_secret=\"RzKS2hTeBmuyZmnTQNmb60amGrZcDcz0TG6hKkmxs5I3pCDXk7\"\n",
    "access_token=\"388776498-RhK6Uy0kvfS3sXYODwMEl8rzKgSWkly0VePSNZQG\"\n",
    "access_token_secret=\"TcqggzupkuePud53Mg15LAvoxwlwc85rOUpIlAhTM8GCI\"\n",
    "\n",
    "auth = tweepy.OAuthHandler(consumer_key,consumer_secret)\n",
    "auth.set_access_token(access_token,access_token_secret)\n",
    "api = tweepy.API(auth)\n",
    "\n",
    "print('API Tersambung')"
   ]
  },
  {
   "cell_type": "code",
   "execution_count": 2,
   "metadata": {},
   "outputs": [
    {
     "ename": "FileNotFoundError",
     "evalue": "[Errno 2] No such file or directory: 'D:\\\\Kuliah\\\\Penulisan Ilmiah Bismillah\\\\Baru\\\\01tweets_psbb_covid-19.csv'",
     "output_type": "error",
     "traceback": [
      "\u001b[1;31m---------------------------------------------------------------------------\u001b[0m",
      "\u001b[1;31mFileNotFoundError\u001b[0m                         Traceback (most recent call last)",
      "\u001b[1;32m<ipython-input-2-ccf9359dc81b>\u001b[0m in \u001b[0;36m<module>\u001b[1;34m\u001b[0m\n\u001b[1;32m----> 1\u001b[1;33m \u001b[1;32mwith\u001b[0m \u001b[0mopen\u001b[0m\u001b[1;33m(\u001b[0m\u001b[1;34mr'D:\\Kuliah\\Penulisan Ilmiah Bismillah\\Baru\\01tweets_psbb_covid-19.csv'\u001b[0m\u001b[1;33m,\u001b[0m\u001b[1;34m'w'\u001b[0m\u001b[1;33m,\u001b[0m \u001b[0mencoding\u001b[0m\u001b[1;33m=\u001b[0m\u001b[1;34m'utf8'\u001b[0m\u001b[1;33m)\u001b[0m \u001b[1;32mas\u001b[0m \u001b[0mfile\u001b[0m\u001b[1;33m:\u001b[0m\u001b[1;33m\u001b[0m\u001b[1;33m\u001b[0m\u001b[0m\n\u001b[0m\u001b[0;32m      2\u001b[0m   \u001b[0mw\u001b[0m \u001b[1;33m=\u001b[0m \u001b[0mcsv\u001b[0m\u001b[1;33m.\u001b[0m\u001b[0mwriter\u001b[0m\u001b[1;33m(\u001b[0m\u001b[0mfile\u001b[0m\u001b[1;33m)\u001b[0m\u001b[1;33m\u001b[0m\u001b[1;33m\u001b[0m\u001b[0m\n\u001b[0;32m      3\u001b[0m   \u001b[1;32mfor\u001b[0m \u001b[0mtweet\u001b[0m \u001b[1;32min\u001b[0m \u001b[0mtweepy\u001b[0m\u001b[1;33m.\u001b[0m\u001b[0mCursor\u001b[0m\u001b[1;33m(\u001b[0m\u001b[0mapi\u001b[0m\u001b[1;33m.\u001b[0m\u001b[0msearch\u001b[0m\u001b[1;33m,\u001b[0m \u001b[0mq\u001b[0m\u001b[1;33m=\u001b[0m\u001b[1;34m\"psbb covid-19\"\u001b[0m \u001b[1;33m+\u001b[0m \u001b[1;34m' -filter:retweets'\u001b[0m\u001b[1;33m,\u001b[0m \u001b[0mlang\u001b[0m\u001b[1;33m=\u001b[0m\u001b[1;34m\"id\"\u001b[0m\u001b[1;33m,\u001b[0m \u001b[0mtweet_mode\u001b[0m\u001b[1;33m=\u001b[0m\u001b[1;34m'extended'\u001b[0m\u001b[1;33m)\u001b[0m\u001b[1;33m.\u001b[0m\u001b[0mitems\u001b[0m\u001b[1;33m(\u001b[0m\u001b[1;36m1000\u001b[0m\u001b[1;33m)\u001b[0m\u001b[1;33m:\u001b[0m\u001b[1;33m\u001b[0m\u001b[1;33m\u001b[0m\u001b[0m\n\u001b[0;32m      4\u001b[0m     \u001b[0mw\u001b[0m\u001b[1;33m.\u001b[0m\u001b[0mwriterow\u001b[0m\u001b[1;33m(\u001b[0m\u001b[1;33m[\u001b[0m\u001b[0mtweet\u001b[0m\u001b[1;33m.\u001b[0m\u001b[0mfull_text\u001b[0m\u001b[1;33m.\u001b[0m\u001b[0mreplace\u001b[0m\u001b[1;33m(\u001b[0m\u001b[1;34m'\\n'\u001b[0m\u001b[1;33m,\u001b[0m\u001b[1;34m' '\u001b[0m\u001b[1;33m)\u001b[0m\u001b[1;33m]\u001b[0m\u001b[1;33m)\u001b[0m\u001b[1;33m\u001b[0m\u001b[1;33m\u001b[0m\u001b[0m\n",
      "\u001b[1;31mFileNotFoundError\u001b[0m: [Errno 2] No such file or directory: 'D:\\\\Kuliah\\\\Penulisan Ilmiah Bismillah\\\\Baru\\\\01tweets_psbb_covid-19.csv'"
     ]
    }
   ],
   "source": [
    "#Mengambil Tweets PSBB dan COVID-19 dari Twitter\n",
    "\n",
    "with open(r'D:\\Kuliah\\PI\\Baru\\01tweets_psbb_covid-19.csv','w', encoding='utf8') as file:\n",
    "  w = csv.writer(file)\n",
    "  for tweet in tweepy.Cursor(api.search, q=\"psbb covid-19\" + ' -filter:retweets', lang=\"id\", tweet_mode='extended').items(1000):\n",
    "    w.writerow([tweet.full_text.replace('\\n',' ')])"
   ]
  },
  {
   "cell_type": "code",
   "execution_count": 2,
   "metadata": {},
   "outputs": [
    {
     "name": "stderr",
     "output_type": "stream",
     "text": [
      "C:\\Users\\Nabhan\\anaconda3\\lib\\site-packages\\ipykernel_launcher.py:4: FutureWarning: Passing a negative integer is deprecated in version 1.0 and will not be supported in future version. Instead, use None to not limit the column width.\n",
      "  after removing the cwd from sys.path.\n"
     ]
    }
   ],
   "source": [
    "#Mengatur tampilan DataFrame\n",
    "pd.options.display.max_rows = 50\n",
    "#pd.set_option(\"display.max_rows\", 50, \"display.max_columns\", None)\n",
    "pd.set_option('display.max_colwidth', -1)"
   ]
  },
  {
   "cell_type": "code",
   "execution_count": null,
   "metadata": {},
   "outputs": [],
   "source": [
    "#Membuat dataframe dari hasil tweets yang sudah diambil dan diberi label\n",
    "\n",
    "source=r\"D:\\Kuliah\\PI\\Baru\\02tweets_berlabel.csv\"\n",
    "labeled_data = pd.read_csv(source)\n",
    "labeled_data.shape\n",
    "labeled_data"
   ]
  },
  {
   "cell_type": "code",
   "execution_count": null,
   "metadata": {},
   "outputs": [],
   "source": [
    "#Merapihkan Hasil Pelabelan Manual\n",
    "\n",
    "labeled_data = labeled_data.drop(['label_user1','label_user2','label_user3','jumlah_label', 'label_kecil'], axis=1) # menghapus kolom yang tidak perlu\n",
    "labeled_data = labeled_data.astype(str) #Merubah tipe data menjadi string\n",
    "labeled_data.to_csv(r'D:\\Kuliah\\PI\\Baru\\03tweets_hasillabel.csv', index=False) #Menyimpan tabel kedalam bentuk .csv"
   ]
  },
  {
   "cell_type": "markdown",
   "metadata": {},
   "source": [
    "## > Tahap Pre-Processing"
   ]
  },
  {
   "cell_type": "code",
   "execution_count": null,
   "metadata": {},
   "outputs": [],
   "source": [
    "#Melakukan Case Folding\n",
    "\n",
    "labeled_data['hasil_case_folding']= labeled_data.apply(lambda row: str.lower(row['tweet_awal']), axis =1)\n",
    "labeled_data = labeled_data[[\"tweet_awal\", \"hasil_case_folding\", \"hasil_label\"]] #Mengurutkan kolom pada tabel"
   ]
  },
  {
   "cell_type": "code",
   "execution_count": null,
   "metadata": {},
   "outputs": [],
   "source": [
    "#Cleansing\n",
    "#Membuat function untuk cleansing\n",
    "\n",
    "def hapus_https(teks):\n",
    "    teks = re.sub(r\"https?\\://\\S+\", \"\", teks) #Menghapus link https\n",
    "    return teks\n",
    "def hapus_mention(teks):\n",
    "    teks = re.sub(r\"[@][\\w_-]+\", \"\", teks) #Menghapus mention\n",
    "    return teks\n",
    "def hapus_hashtag(teks):\n",
    "    teks = re.sub(r\"[#][\\w_-]+\", \"\", teks) #Menghapus hashtag\n",
    "    return teks\n",
    "def hapus_tandabaca(teks):\n",
    "    teks = re.sub(r\"[^\\w\\s]\", \" \", teks) #Menghapus tanda baca\n",
    "    return teks\n",
    "def hapus_angka(teks):\n",
    "    teks = re.sub(r\"\\d+\",\" \",teks) #Menghapus angka\n",
    "    return teks\n",
    "def hapus_spasiganda(teks):\n",
    "    teks = re.sub(r\" +\", \" \",teks) #Menghapus spasi ganda\n",
    "    return teks\n",
    "def hapus_spasiawal(teks):\n",
    "    teks = re.sub(r\"^\\s+\",\"\",teks) #Menghapus spasi di awal kalimat\n",
    "    return teks\n",
    "def hapus_spasiakhir(teks):\n",
    "    teks = re.sub(r\"\\s+$\",\"\",teks) #Menghapu spasi di akhir kalimat\n",
    "    return teks"
   ]
  },
  {
   "cell_type": "code",
   "execution_count": null,
   "metadata": {},
   "outputs": [],
   "source": [
    "#Cleansing\n",
    "#Menjalankan proses cleansing\n",
    "\n",
    "labeled_data['hasil_hapus_https']= labeled_data['hasil_case_folding'].apply(lambda row: hapus_https(str(row)))\n",
    "labeled_data['hasil_hapus_mention']= labeled_data['hasil_hapus_https'].apply(lambda row: hapus_mention(str(row)))\n",
    "labeled_data['hasil_hapus_hastag']= labeled_data['hasil_hapus_mention'].apply(lambda row: hapus_hashtag(str(row)))\n",
    "labeled_data['hasil_hapus_tandabaca']= labeled_data['hasil_hapus_hastag'].apply(lambda row: hapus_tandabaca(str(row)))\n",
    "labeled_data['hasil_hapus_angka']= labeled_data['hasil_hapus_tandabaca'].apply(lambda row: hapus_angka(str(row)))\n",
    "labeled_data['hasil_hapus_spasiganda']= labeled_data['hasil_hapus_angka'].apply(lambda row: hapus_spasiganda(str(row)))\n",
    "labeled_data['hasil_hapus_spasiawal']= labeled_data['hasil_hapus_spasiganda'].apply(lambda row: hapus_spasiawal(str(row)))\n",
    "labeled_data['hasil_hapus_spasiakhir']= labeled_data['hasil_hapus_spasiawal'].apply(lambda row: hapus_spasiakhir(str(row)))"
   ]
  },
  {
   "cell_type": "code",
   "execution_count": 7,
   "metadata": {
    "collapsed": true,
    "jupyter": {
     "outputs_hidden": true
    }
   },
   "outputs": [
    {
     "data": {
      "text/html": [
       "<div>\n",
       "<style scoped>\n",
       "    .dataframe tbody tr th:only-of-type {\n",
       "        vertical-align: middle;\n",
       "    }\n",
       "\n",
       "    .dataframe tbody tr th {\n",
       "        vertical-align: top;\n",
       "    }\n",
       "\n",
       "    .dataframe thead th {\n",
       "        text-align: right;\n",
       "    }\n",
       "</style>\n",
       "<table border=\"1\" class=\"dataframe\">\n",
       "  <thead>\n",
       "    <tr style=\"text-align: right;\">\n",
       "      <th></th>\n",
       "      <th>tweet_awal</th>\n",
       "      <th>hasil_case_folding</th>\n",
       "      <th>hasil_label</th>\n",
       "      <th>hasil_hapus_https</th>\n",
       "      <th>hasil_hapus_mention</th>\n",
       "      <th>hasil_hapus_hastag</th>\n",
       "      <th>hasil_hapus_tandabaca</th>\n",
       "      <th>hasil_hapus_angka</th>\n",
       "      <th>hasil_hapus_spasiganda</th>\n",
       "      <th>hasil_hapus_spasiawal</th>\n",
       "      <th>hasil_hapus_spasiakhir</th>\n",
       "    </tr>\n",
       "  </thead>\n",
       "  <tbody>\n",
       "    <tr>\n",
       "      <th>0</th>\n",
       "      <td>Menurut Tito Karnavian,keberhasilan wilayah Anies Baswedan dalam menekan laju kasus covid-19 bukan tentang PSBB Jakarta  Justru keberhasilan Jakarta ada pd penerapan PSBB yang efektif di Kota Depok  Ternyata kuncinya kota Depok friends  Jng GR dulu...🤭   https://t.co/9r4CLJV4LB</td>\n",
       "      <td>menurut tito karnavian,keberhasilan wilayah anies baswedan dalam menekan laju kasus covid-19 bukan tentang psbb jakarta  justru keberhasilan jakarta ada pd penerapan psbb yang efektif di kota depok  ternyata kuncinya kota depok friends  jng gr dulu...🤭   https://t.co/9r4cljv4lb</td>\n",
       "      <td>Positif</td>\n",
       "      <td>menurut tito karnavian,keberhasilan wilayah anies baswedan dalam menekan laju kasus covid-19 bukan tentang psbb jakarta  justru keberhasilan jakarta ada pd penerapan psbb yang efektif di kota depok  ternyata kuncinya kota depok friends  jng gr dulu...🤭</td>\n",
       "      <td>menurut tito karnavian,keberhasilan wilayah anies baswedan dalam menekan laju kasus covid-19 bukan tentang psbb jakarta  justru keberhasilan jakarta ada pd penerapan psbb yang efektif di kota depok  ternyata kuncinya kota depok friends  jng gr dulu...🤭</td>\n",
       "      <td>menurut tito karnavian,keberhasilan wilayah anies baswedan dalam menekan laju kasus covid-19 bukan tentang psbb jakarta  justru keberhasilan jakarta ada pd penerapan psbb yang efektif di kota depok  ternyata kuncinya kota depok friends  jng gr dulu...🤭</td>\n",
       "      <td>menurut tito karnavian keberhasilan wilayah anies baswedan dalam menekan laju kasus covid 19 bukan tentang psbb jakarta  justru keberhasilan jakarta ada pd penerapan psbb yang efektif di kota depok  ternyata kuncinya kota depok friends  jng gr dulu</td>\n",
       "      <td>menurut tito karnavian keberhasilan wilayah anies baswedan dalam menekan laju kasus covid   bukan tentang psbb jakarta  justru keberhasilan jakarta ada pd penerapan psbb yang efektif di kota depok  ternyata kuncinya kota depok friends  jng gr dulu</td>\n",
       "      <td>menurut tito karnavian keberhasilan wilayah anies baswedan dalam menekan laju kasus covid bukan tentang psbb jakarta justru keberhasilan jakarta ada pd penerapan psbb yang efektif di kota depok ternyata kuncinya kota depok friends jng gr dulu</td>\n",
       "      <td>menurut tito karnavian keberhasilan wilayah anies baswedan dalam menekan laju kasus covid bukan tentang psbb jakarta justru keberhasilan jakarta ada pd penerapan psbb yang efektif di kota depok ternyata kuncinya kota depok friends jng gr dulu</td>\n",
       "      <td>menurut tito karnavian keberhasilan wilayah anies baswedan dalam menekan laju kasus covid bukan tentang psbb jakarta justru keberhasilan jakarta ada pd penerapan psbb yang efektif di kota depok ternyata kuncinya kota depok friends jng gr dulu</td>\n",
       "    </tr>\n",
       "    <tr>\n",
       "      <th>1</th>\n",
       "      <td>Indikator makroekonomi 2021 dipengaruhi oleh baseline ekonomi 2020 yg terdampak pandemi Covid-19. Dampak ke ekonomi sudah dirasakan, terlihat dari melambatanya pertumbuhan ekonomi Q1 2020 yg disebabkan oleh menurunnya konsumsi rumah tangga &amp;amp; investasi akibat PSBB.  #infofiskal https://t.co/h7U14N5YOC</td>\n",
       "      <td>indikator makroekonomi 2021 dipengaruhi oleh baseline ekonomi 2020 yg terdampak pandemi covid-19. dampak ke ekonomi sudah dirasakan, terlihat dari melambatanya pertumbuhan ekonomi q1 2020 yg disebabkan oleh menurunnya konsumsi rumah tangga &amp;amp; investasi akibat psbb.  #infofiskal https://t.co/h7u14n5yoc</td>\n",
       "      <td>Negatif</td>\n",
       "      <td>indikator makroekonomi 2021 dipengaruhi oleh baseline ekonomi 2020 yg terdampak pandemi covid-19. dampak ke ekonomi sudah dirasakan, terlihat dari melambatanya pertumbuhan ekonomi q1 2020 yg disebabkan oleh menurunnya konsumsi rumah tangga &amp;amp; investasi akibat psbb.  #infofiskal</td>\n",
       "      <td>indikator makroekonomi 2021 dipengaruhi oleh baseline ekonomi 2020 yg terdampak pandemi covid-19. dampak ke ekonomi sudah dirasakan, terlihat dari melambatanya pertumbuhan ekonomi q1 2020 yg disebabkan oleh menurunnya konsumsi rumah tangga &amp;amp; investasi akibat psbb.  #infofiskal</td>\n",
       "      <td>indikator makroekonomi 2021 dipengaruhi oleh baseline ekonomi 2020 yg terdampak pandemi covid-19. dampak ke ekonomi sudah dirasakan, terlihat dari melambatanya pertumbuhan ekonomi q1 2020 yg disebabkan oleh menurunnya konsumsi rumah tangga &amp;amp; investasi akibat psbb.</td>\n",
       "      <td>indikator makroekonomi 2021 dipengaruhi oleh baseline ekonomi 2020 yg terdampak pandemi covid 19  dampak ke ekonomi sudah dirasakan  terlihat dari melambatanya pertumbuhan ekonomi q1 2020 yg disebabkan oleh menurunnya konsumsi rumah tangga  amp  investasi akibat psbb</td>\n",
       "      <td>indikator makroekonomi   dipengaruhi oleh baseline ekonomi   yg terdampak pandemi covid    dampak ke ekonomi sudah dirasakan  terlihat dari melambatanya pertumbuhan ekonomi q    yg disebabkan oleh menurunnya konsumsi rumah tangga  amp  investasi akibat psbb</td>\n",
       "      <td>indikator makroekonomi dipengaruhi oleh baseline ekonomi yg terdampak pandemi covid dampak ke ekonomi sudah dirasakan terlihat dari melambatanya pertumbuhan ekonomi q yg disebabkan oleh menurunnya konsumsi rumah tangga amp investasi akibat psbb</td>\n",
       "      <td>indikator makroekonomi dipengaruhi oleh baseline ekonomi yg terdampak pandemi covid dampak ke ekonomi sudah dirasakan terlihat dari melambatanya pertumbuhan ekonomi q yg disebabkan oleh menurunnya konsumsi rumah tangga amp investasi akibat psbb</td>\n",
       "      <td>indikator makroekonomi dipengaruhi oleh baseline ekonomi yg terdampak pandemi covid dampak ke ekonomi sudah dirasakan terlihat dari melambatanya pertumbuhan ekonomi q yg disebabkan oleh menurunnya konsumsi rumah tangga amp investasi akibat psbb</td>\n",
       "    </tr>\n",
       "    <tr>\n",
       "      <th>2</th>\n",
       "      <td>Indonesia dijamin ngga akan beres covid-19 kalau  1. Kesadaran semua lapis masyarakat rendah 2. Test PCR belum mencapai target 10 ribu per hari (sampai hari ini masih 4-5 ribu sehari) 3. Pemerintah masih melonggarkan PSBB</td>\n",
       "      <td>indonesia dijamin ngga akan beres covid-19 kalau  1. kesadaran semua lapis masyarakat rendah 2. test pcr belum mencapai target 10 ribu per hari (sampai hari ini masih 4-5 ribu sehari) 3. pemerintah masih melonggarkan psbb</td>\n",
       "      <td>Negatif</td>\n",
       "      <td>indonesia dijamin ngga akan beres covid-19 kalau  1. kesadaran semua lapis masyarakat rendah 2. test pcr belum mencapai target 10 ribu per hari (sampai hari ini masih 4-5 ribu sehari) 3. pemerintah masih melonggarkan psbb</td>\n",
       "      <td>indonesia dijamin ngga akan beres covid-19 kalau  1. kesadaran semua lapis masyarakat rendah 2. test pcr belum mencapai target 10 ribu per hari (sampai hari ini masih 4-5 ribu sehari) 3. pemerintah masih melonggarkan psbb</td>\n",
       "      <td>indonesia dijamin ngga akan beres covid-19 kalau  1. kesadaran semua lapis masyarakat rendah 2. test pcr belum mencapai target 10 ribu per hari (sampai hari ini masih 4-5 ribu sehari) 3. pemerintah masih melonggarkan psbb</td>\n",
       "      <td>indonesia dijamin ngga akan beres covid 19 kalau  1  kesadaran semua lapis masyarakat rendah 2  test pcr belum mencapai target 10 ribu per hari  sampai hari ini masih 4 5 ribu sehari  3  pemerintah masih melonggarkan psbb</td>\n",
       "      <td>indonesia dijamin ngga akan beres covid   kalau     kesadaran semua lapis masyarakat rendah    test pcr belum mencapai target   ribu per hari  sampai hari ini masih     ribu sehari     pemerintah masih melonggarkan psbb</td>\n",
       "      <td>indonesia dijamin ngga akan beres covid kalau kesadaran semua lapis masyarakat rendah test pcr belum mencapai target ribu per hari sampai hari ini masih ribu sehari pemerintah masih melonggarkan psbb</td>\n",
       "      <td>indonesia dijamin ngga akan beres covid kalau kesadaran semua lapis masyarakat rendah test pcr belum mencapai target ribu per hari sampai hari ini masih ribu sehari pemerintah masih melonggarkan psbb</td>\n",
       "      <td>indonesia dijamin ngga akan beres covid kalau kesadaran semua lapis masyarakat rendah test pcr belum mencapai target ribu per hari sampai hari ini masih ribu sehari pemerintah masih melonggarkan psbb</td>\n",
       "    </tr>\n",
       "    <tr>\n",
       "      <th>3</th>\n",
       "      <td>Perubahan apa saja yang akan terjadi pada bisnis di Indonesia setelah pandemi COVID-19 berakhir? Diberlakukannya sistem PSBB untuk memutuskan rantai penyebaran virus COVID-19 membuat masyarakat harus mengerjakan segala kegiatan mereka dari rumah, termasuk bekerja.</td>\n",
       "      <td>perubahan apa saja yang akan terjadi pada bisnis di indonesia setelah pandemi covid-19 berakhir? diberlakukannya sistem psbb untuk memutuskan rantai penyebaran virus covid-19 membuat masyarakat harus mengerjakan segala kegiatan mereka dari rumah, termasuk bekerja.</td>\n",
       "      <td>Negatif</td>\n",
       "      <td>perubahan apa saja yang akan terjadi pada bisnis di indonesia setelah pandemi covid-19 berakhir? diberlakukannya sistem psbb untuk memutuskan rantai penyebaran virus covid-19 membuat masyarakat harus mengerjakan segala kegiatan mereka dari rumah, termasuk bekerja.</td>\n",
       "      <td>perubahan apa saja yang akan terjadi pada bisnis di indonesia setelah pandemi covid-19 berakhir? diberlakukannya sistem psbb untuk memutuskan rantai penyebaran virus covid-19 membuat masyarakat harus mengerjakan segala kegiatan mereka dari rumah, termasuk bekerja.</td>\n",
       "      <td>perubahan apa saja yang akan terjadi pada bisnis di indonesia setelah pandemi covid-19 berakhir? diberlakukannya sistem psbb untuk memutuskan rantai penyebaran virus covid-19 membuat masyarakat harus mengerjakan segala kegiatan mereka dari rumah, termasuk bekerja.</td>\n",
       "      <td>perubahan apa saja yang akan terjadi pada bisnis di indonesia setelah pandemi covid 19 berakhir  diberlakukannya sistem psbb untuk memutuskan rantai penyebaran virus covid 19 membuat masyarakat harus mengerjakan segala kegiatan mereka dari rumah  termasuk bekerja</td>\n",
       "      <td>perubahan apa saja yang akan terjadi pada bisnis di indonesia setelah pandemi covid   berakhir  diberlakukannya sistem psbb untuk memutuskan rantai penyebaran virus covid   membuat masyarakat harus mengerjakan segala kegiatan mereka dari rumah  termasuk bekerja</td>\n",
       "      <td>perubahan apa saja yang akan terjadi pada bisnis di indonesia setelah pandemi covid berakhir diberlakukannya sistem psbb untuk memutuskan rantai penyebaran virus covid membuat masyarakat harus mengerjakan segala kegiatan mereka dari rumah termasuk bekerja</td>\n",
       "      <td>perubahan apa saja yang akan terjadi pada bisnis di indonesia setelah pandemi covid berakhir diberlakukannya sistem psbb untuk memutuskan rantai penyebaran virus covid membuat masyarakat harus mengerjakan segala kegiatan mereka dari rumah termasuk bekerja</td>\n",
       "      <td>perubahan apa saja yang akan terjadi pada bisnis di indonesia setelah pandemi covid berakhir diberlakukannya sistem psbb untuk memutuskan rantai penyebaran virus covid membuat masyarakat harus mengerjakan segala kegiatan mereka dari rumah termasuk bekerja</td>\n",
       "    </tr>\n",
       "    <tr>\n",
       "      <th>4</th>\n",
       "      <td>Masyarakat harus disiplin dan mematuhi protokol kesehatan pencegahan virus Covid-19 https://t.co/ka16K6bXlD</td>\n",
       "      <td>masyarakat harus disiplin dan mematuhi protokol kesehatan pencegahan virus covid-19 https://t.co/ka16k6bxld</td>\n",
       "      <td>Positif</td>\n",
       "      <td>masyarakat harus disiplin dan mematuhi protokol kesehatan pencegahan virus covid-19</td>\n",
       "      <td>masyarakat harus disiplin dan mematuhi protokol kesehatan pencegahan virus covid-19</td>\n",
       "      <td>masyarakat harus disiplin dan mematuhi protokol kesehatan pencegahan virus covid-19</td>\n",
       "      <td>masyarakat harus disiplin dan mematuhi protokol kesehatan pencegahan virus covid 19</td>\n",
       "      <td>masyarakat harus disiplin dan mematuhi protokol kesehatan pencegahan virus covid</td>\n",
       "      <td>masyarakat harus disiplin dan mematuhi protokol kesehatan pencegahan virus covid</td>\n",
       "      <td>masyarakat harus disiplin dan mematuhi protokol kesehatan pencegahan virus covid</td>\n",
       "      <td>masyarakat harus disiplin dan mematuhi protokol kesehatan pencegahan virus covid</td>\n",
       "    </tr>\n",
       "    <tr>\n",
       "      <th>...</th>\n",
       "      <td>...</td>\n",
       "      <td>...</td>\n",
       "      <td>...</td>\n",
       "      <td>...</td>\n",
       "      <td>...</td>\n",
       "      <td>...</td>\n",
       "      <td>...</td>\n",
       "      <td>...</td>\n",
       "      <td>...</td>\n",
       "      <td>...</td>\n",
       "      <td>...</td>\n",
       "    </tr>\n",
       "    <tr>\n",
       "      <th>995</th>\n",
       "      <td>Memangnya *tahapan awal penyebaran covid-19 diseluruh indonesia (pandemi) sdh beres dan selesai penanganannya??? Penyerangan covid-19 pd gelombang kedua, apakah setelah perayaan \"Idul Fitri\" or serangan balik covid dg adanya pelonggaran PSBB dlm menyembuhkan penyakit stres masy. https://t.co/P5s1znusNu</td>\n",
       "      <td>memangnya *tahapan awal penyebaran covid-19 diseluruh indonesia (pandemi) sdh beres dan selesai penanganannya??? penyerangan covid-19 pd gelombang kedua, apakah setelah perayaan \"idul fitri\" or serangan balik covid dg adanya pelonggaran psbb dlm menyembuhkan penyakit stres masy. https://t.co/p5s1znusnu</td>\n",
       "      <td>Negatif</td>\n",
       "      <td>memangnya *tahapan awal penyebaran covid-19 diseluruh indonesia (pandemi) sdh beres dan selesai penanganannya??? penyerangan covid-19 pd gelombang kedua, apakah setelah perayaan \"idul fitri\" or serangan balik covid dg adanya pelonggaran psbb dlm menyembuhkan penyakit stres masy.</td>\n",
       "      <td>memangnya *tahapan awal penyebaran covid-19 diseluruh indonesia (pandemi) sdh beres dan selesai penanganannya??? penyerangan covid-19 pd gelombang kedua, apakah setelah perayaan \"idul fitri\" or serangan balik covid dg adanya pelonggaran psbb dlm menyembuhkan penyakit stres masy.</td>\n",
       "      <td>memangnya *tahapan awal penyebaran covid-19 diseluruh indonesia (pandemi) sdh beres dan selesai penanganannya??? penyerangan covid-19 pd gelombang kedua, apakah setelah perayaan \"idul fitri\" or serangan balik covid dg adanya pelonggaran psbb dlm menyembuhkan penyakit stres masy.</td>\n",
       "      <td>memangnya  tahapan awal penyebaran covid 19 diseluruh indonesia  pandemi  sdh beres dan selesai penanganannya    penyerangan covid 19 pd gelombang kedua  apakah setelah perayaan  idul fitri  or serangan balik covid dg adanya pelonggaran psbb dlm menyembuhkan penyakit stres masy</td>\n",
       "      <td>memangnya  tahapan awal penyebaran covid   diseluruh indonesia  pandemi  sdh beres dan selesai penanganannya    penyerangan covid   pd gelombang kedua  apakah setelah perayaan  idul fitri  or serangan balik covid dg adanya pelonggaran psbb dlm menyembuhkan penyakit stres masy</td>\n",
       "      <td>memangnya tahapan awal penyebaran covid diseluruh indonesia pandemi sdh beres dan selesai penanganannya penyerangan covid pd gelombang kedua apakah setelah perayaan idul fitri or serangan balik covid dg adanya pelonggaran psbb dlm menyembuhkan penyakit stres masy</td>\n",
       "      <td>memangnya tahapan awal penyebaran covid diseluruh indonesia pandemi sdh beres dan selesai penanganannya penyerangan covid pd gelombang kedua apakah setelah perayaan idul fitri or serangan balik covid dg adanya pelonggaran psbb dlm menyembuhkan penyakit stres masy</td>\n",
       "      <td>memangnya tahapan awal penyebaran covid diseluruh indonesia pandemi sdh beres dan selesai penanganannya penyerangan covid pd gelombang kedua apakah setelah perayaan idul fitri or serangan balik covid dg adanya pelonggaran psbb dlm menyembuhkan penyakit stres masy</td>\n",
       "    </tr>\n",
       "    <tr>\n",
       "      <th>996</th>\n",
       "      <td>New post (Covid-19 Cianjur Menyebar di 18 Kecamatan, Pemkab Terapkan PSBB Parsial) has been published on Prasasti Jabar - https://t.co/6ynCyMuqax https://t.co/GUYyedWRFF</td>\n",
       "      <td>new post (covid-19 cianjur menyebar di 18 kecamatan, pemkab terapkan psbb parsial) has been published on prasasti jabar - https://t.co/6yncymuqax https://t.co/guyyedwrff</td>\n",
       "      <td>Negatif</td>\n",
       "      <td>new post (covid-19 cianjur menyebar di 18 kecamatan, pemkab terapkan psbb parsial) has been published on prasasti jabar -</td>\n",
       "      <td>new post (covid-19 cianjur menyebar di 18 kecamatan, pemkab terapkan psbb parsial) has been published on prasasti jabar -</td>\n",
       "      <td>new post (covid-19 cianjur menyebar di 18 kecamatan, pemkab terapkan psbb parsial) has been published on prasasti jabar -</td>\n",
       "      <td>new post  covid 19 cianjur menyebar di 18 kecamatan  pemkab terapkan psbb parsial  has been published on prasasti jabar</td>\n",
       "      <td>new post  covid   cianjur menyebar di   kecamatan  pemkab terapkan psbb parsial  has been published on prasasti jabar</td>\n",
       "      <td>new post covid cianjur menyebar di kecamatan pemkab terapkan psbb parsial has been published on prasasti jabar</td>\n",
       "      <td>new post covid cianjur menyebar di kecamatan pemkab terapkan psbb parsial has been published on prasasti jabar</td>\n",
       "      <td>new post covid cianjur menyebar di kecamatan pemkab terapkan psbb parsial has been published on prasasti jabar</td>\n",
       "    </tr>\n",
       "    <tr>\n",
       "      <th>997</th>\n",
       "      <td>Bamsoet: Penularan Covid-19 Masih Tinggi, Jangan Dulu Relaksasi PSBB  https://t.co/SMcL3wqRJA</td>\n",
       "      <td>bamsoet: penularan covid-19 masih tinggi, jangan dulu relaksasi psbb  https://t.co/smcl3wqrja</td>\n",
       "      <td>Negatif</td>\n",
       "      <td>bamsoet: penularan covid-19 masih tinggi, jangan dulu relaksasi psbb</td>\n",
       "      <td>bamsoet: penularan covid-19 masih tinggi, jangan dulu relaksasi psbb</td>\n",
       "      <td>bamsoet: penularan covid-19 masih tinggi, jangan dulu relaksasi psbb</td>\n",
       "      <td>bamsoet  penularan covid 19 masih tinggi  jangan dulu relaksasi psbb</td>\n",
       "      <td>bamsoet  penularan covid   masih tinggi  jangan dulu relaksasi psbb</td>\n",
       "      <td>bamsoet penularan covid masih tinggi jangan dulu relaksasi psbb</td>\n",
       "      <td>bamsoet penularan covid masih tinggi jangan dulu relaksasi psbb</td>\n",
       "      <td>bamsoet penularan covid masih tinggi jangan dulu relaksasi psbb</td>\n",
       "    </tr>\n",
       "    <tr>\n",
       "      <th>998</th>\n",
       "      <td>@JupriSaksi Bagaimna cara pendataannya dan implementasi dari Peraturan PSBB ini di Gorontalo? Sampai skrgpun banyak penduduk baik warga Gorontalo dan Pendatang yg terdampak dri COVID-19 ini kebingungan. Peraturan2 yg membingungkan. https://t.co/fRlHMNrr0a</td>\n",
       "      <td>@juprisaksi bagaimna cara pendataannya dan implementasi dari peraturan psbb ini di gorontalo? sampai skrgpun banyak penduduk baik warga gorontalo dan pendatang yg terdampak dri covid-19 ini kebingungan. peraturan2 yg membingungkan. https://t.co/frlhmnrr0a</td>\n",
       "      <td>Negatif</td>\n",
       "      <td>@juprisaksi bagaimna cara pendataannya dan implementasi dari peraturan psbb ini di gorontalo? sampai skrgpun banyak penduduk baik warga gorontalo dan pendatang yg terdampak dri covid-19 ini kebingungan. peraturan2 yg membingungkan.</td>\n",
       "      <td>bagaimna cara pendataannya dan implementasi dari peraturan psbb ini di gorontalo? sampai skrgpun banyak penduduk baik warga gorontalo dan pendatang yg terdampak dri covid-19 ini kebingungan. peraturan2 yg membingungkan.</td>\n",
       "      <td>bagaimna cara pendataannya dan implementasi dari peraturan psbb ini di gorontalo? sampai skrgpun banyak penduduk baik warga gorontalo dan pendatang yg terdampak dri covid-19 ini kebingungan. peraturan2 yg membingungkan.</td>\n",
       "      <td>bagaimna cara pendataannya dan implementasi dari peraturan psbb ini di gorontalo  sampai skrgpun banyak penduduk baik warga gorontalo dan pendatang yg terdampak dri covid 19 ini kebingungan  peraturan2 yg membingungkan</td>\n",
       "      <td>bagaimna cara pendataannya dan implementasi dari peraturan psbb ini di gorontalo  sampai skrgpun banyak penduduk baik warga gorontalo dan pendatang yg terdampak dri covid   ini kebingungan  peraturan  yg membingungkan</td>\n",
       "      <td>bagaimna cara pendataannya dan implementasi dari peraturan psbb ini di gorontalo sampai skrgpun banyak penduduk baik warga gorontalo dan pendatang yg terdampak dri covid ini kebingungan peraturan yg membingungkan</td>\n",
       "      <td>bagaimna cara pendataannya dan implementasi dari peraturan psbb ini di gorontalo sampai skrgpun banyak penduduk baik warga gorontalo dan pendatang yg terdampak dri covid ini kebingungan peraturan yg membingungkan</td>\n",
       "      <td>bagaimna cara pendataannya dan implementasi dari peraturan psbb ini di gorontalo sampai skrgpun banyak penduduk baik warga gorontalo dan pendatang yg terdampak dri covid ini kebingungan peraturan yg membingungkan</td>\n",
       "    </tr>\n",
       "    <tr>\n",
       "      <th>999</th>\n",
       "      <td>[PEMBATASAN AKSES WARGA]  Dimasa PSBB Bandung Raya, beberapa akses keluar masuk warga agak dibatasi oleh pihak setempat. Hal ini sebagai upaya salah satu cara memutus rantai penyebaran covid-19  Portal atau Jalan daerah mana lagi nih yang melakukan pembatasan akses warganya ??? https://t.co/dbffkhKqxw</td>\n",
       "      <td>[pembatasan akses warga]  dimasa psbb bandung raya, beberapa akses keluar masuk warga agak dibatasi oleh pihak setempat. hal ini sebagai upaya salah satu cara memutus rantai penyebaran covid-19  portal atau jalan daerah mana lagi nih yang melakukan pembatasan akses warganya ??? https://t.co/dbffkhkqxw</td>\n",
       "      <td>Positif</td>\n",
       "      <td>[pembatasan akses warga]  dimasa psbb bandung raya, beberapa akses keluar masuk warga agak dibatasi oleh pihak setempat. hal ini sebagai upaya salah satu cara memutus rantai penyebaran covid-19  portal atau jalan daerah mana lagi nih yang melakukan pembatasan akses warganya ???</td>\n",
       "      <td>[pembatasan akses warga]  dimasa psbb bandung raya, beberapa akses keluar masuk warga agak dibatasi oleh pihak setempat. hal ini sebagai upaya salah satu cara memutus rantai penyebaran covid-19  portal atau jalan daerah mana lagi nih yang melakukan pembatasan akses warganya ???</td>\n",
       "      <td>[pembatasan akses warga]  dimasa psbb bandung raya, beberapa akses keluar masuk warga agak dibatasi oleh pihak setempat. hal ini sebagai upaya salah satu cara memutus rantai penyebaran covid-19  portal atau jalan daerah mana lagi nih yang melakukan pembatasan akses warganya ???</td>\n",
       "      <td>pembatasan akses warga   dimasa psbb bandung raya  beberapa akses keluar masuk warga agak dibatasi oleh pihak setempat  hal ini sebagai upaya salah satu cara memutus rantai penyebaran covid 19  portal atau jalan daerah mana lagi nih yang melakukan pembatasan akses warganya</td>\n",
       "      <td>pembatasan akses warga   dimasa psbb bandung raya  beberapa akses keluar masuk warga agak dibatasi oleh pihak setempat  hal ini sebagai upaya salah satu cara memutus rantai penyebaran covid    portal atau jalan daerah mana lagi nih yang melakukan pembatasan akses warganya</td>\n",
       "      <td>pembatasan akses warga dimasa psbb bandung raya beberapa akses keluar masuk warga agak dibatasi oleh pihak setempat hal ini sebagai upaya salah satu cara memutus rantai penyebaran covid portal atau jalan daerah mana lagi nih yang melakukan pembatasan akses warganya</td>\n",
       "      <td>pembatasan akses warga dimasa psbb bandung raya beberapa akses keluar masuk warga agak dibatasi oleh pihak setempat hal ini sebagai upaya salah satu cara memutus rantai penyebaran covid portal atau jalan daerah mana lagi nih yang melakukan pembatasan akses warganya</td>\n",
       "      <td>pembatasan akses warga dimasa psbb bandung raya beberapa akses keluar masuk warga agak dibatasi oleh pihak setempat hal ini sebagai upaya salah satu cara memutus rantai penyebaran covid portal atau jalan daerah mana lagi nih yang melakukan pembatasan akses warganya</td>\n",
       "    </tr>\n",
       "  </tbody>\n",
       "</table>\n",
       "<p>1000 rows × 11 columns</p>\n",
       "</div>"
      ],
      "text/plain": [
       "                                                                                                                                                                                                                                                                                                            tweet_awal  \\\n",
       "0    Menurut Tito Karnavian,keberhasilan wilayah Anies Baswedan dalam menekan laju kasus covid-19 bukan tentang PSBB Jakarta  Justru keberhasilan Jakarta ada pd penerapan PSBB yang efektif di Kota Depok  Ternyata kuncinya kota Depok friends  Jng GR dulu...🤭   https://t.co/9r4CLJV4LB                              \n",
       "1    Indikator makroekonomi 2021 dipengaruhi oleh baseline ekonomi 2020 yg terdampak pandemi Covid-19. Dampak ke ekonomi sudah dirasakan, terlihat dari melambatanya pertumbuhan ekonomi Q1 2020 yg disebabkan oleh menurunnya konsumsi rumah tangga &amp; investasi akibat PSBB.  #infofiskal https://t.co/h7U14N5YOC   \n",
       "2    Indonesia dijamin ngga akan beres covid-19 kalau  1. Kesadaran semua lapis masyarakat rendah 2. Test PCR belum mencapai target 10 ribu per hari (sampai hari ini masih 4-5 ribu sehari) 3. Pemerintah masih melonggarkan PSBB                                                                                       \n",
       "3    Perubahan apa saja yang akan terjadi pada bisnis di Indonesia setelah pandemi COVID-19 berakhir? Diberlakukannya sistem PSBB untuk memutuskan rantai penyebaran virus COVID-19 membuat masyarakat harus mengerjakan segala kegiatan mereka dari rumah, termasuk bekerja.                                            \n",
       "4    Masyarakat harus disiplin dan mematuhi protokol kesehatan pencegahan virus Covid-19 https://t.co/ka16K6bXlD                                                                                                                                                                                                         \n",
       "..                                                                                                           ...                                                                                                                                                                                                         \n",
       "995  Memangnya *tahapan awal penyebaran covid-19 diseluruh indonesia (pandemi) sdh beres dan selesai penanganannya??? Penyerangan covid-19 pd gelombang kedua, apakah setelah perayaan \"Idul Fitri\" or serangan balik covid dg adanya pelonggaran PSBB dlm menyembuhkan penyakit stres masy. https://t.co/P5s1znusNu     \n",
       "996  New post (Covid-19 Cianjur Menyebar di 18 Kecamatan, Pemkab Terapkan PSBB Parsial) has been published on Prasasti Jabar - https://t.co/6ynCyMuqax https://t.co/GUYyedWRFF                                                                                                                                           \n",
       "997  Bamsoet: Penularan Covid-19 Masih Tinggi, Jangan Dulu Relaksasi PSBB  https://t.co/SMcL3wqRJA                                                                                                                                                                                                                       \n",
       "998  @JupriSaksi Bagaimna cara pendataannya dan implementasi dari Peraturan PSBB ini di Gorontalo? Sampai skrgpun banyak penduduk baik warga Gorontalo dan Pendatang yg terdampak dri COVID-19 ini kebingungan. Peraturan2 yg membingungkan. https://t.co/fRlHMNrr0a                                                     \n",
       "999  [PEMBATASAN AKSES WARGA]  Dimasa PSBB Bandung Raya, beberapa akses keluar masuk warga agak dibatasi oleh pihak setempat. Hal ini sebagai upaya salah satu cara memutus rantai penyebaran covid-19  Portal atau Jalan daerah mana lagi nih yang melakukan pembatasan akses warganya ??? https://t.co/dbffkhKqxw      \n",
       "\n",
       "                                                                                                                                                                                                                                                                                                    hasil_case_folding  \\\n",
       "0    menurut tito karnavian,keberhasilan wilayah anies baswedan dalam menekan laju kasus covid-19 bukan tentang psbb jakarta  justru keberhasilan jakarta ada pd penerapan psbb yang efektif di kota depok  ternyata kuncinya kota depok friends  jng gr dulu...🤭   https://t.co/9r4cljv4lb                              \n",
       "1    indikator makroekonomi 2021 dipengaruhi oleh baseline ekonomi 2020 yg terdampak pandemi covid-19. dampak ke ekonomi sudah dirasakan, terlihat dari melambatanya pertumbuhan ekonomi q1 2020 yg disebabkan oleh menurunnya konsumsi rumah tangga &amp; investasi akibat psbb.  #infofiskal https://t.co/h7u14n5yoc   \n",
       "2    indonesia dijamin ngga akan beres covid-19 kalau  1. kesadaran semua lapis masyarakat rendah 2. test pcr belum mencapai target 10 ribu per hari (sampai hari ini masih 4-5 ribu sehari) 3. pemerintah masih melonggarkan psbb                                                                                       \n",
       "3    perubahan apa saja yang akan terjadi pada bisnis di indonesia setelah pandemi covid-19 berakhir? diberlakukannya sistem psbb untuk memutuskan rantai penyebaran virus covid-19 membuat masyarakat harus mengerjakan segala kegiatan mereka dari rumah, termasuk bekerja.                                            \n",
       "4    masyarakat harus disiplin dan mematuhi protokol kesehatan pencegahan virus covid-19 https://t.co/ka16k6bxld                                                                                                                                                                                                         \n",
       "..                                                                                                           ...                                                                                                                                                                                                         \n",
       "995  memangnya *tahapan awal penyebaran covid-19 diseluruh indonesia (pandemi) sdh beres dan selesai penanganannya??? penyerangan covid-19 pd gelombang kedua, apakah setelah perayaan \"idul fitri\" or serangan balik covid dg adanya pelonggaran psbb dlm menyembuhkan penyakit stres masy. https://t.co/p5s1znusnu     \n",
       "996  new post (covid-19 cianjur menyebar di 18 kecamatan, pemkab terapkan psbb parsial) has been published on prasasti jabar - https://t.co/6yncymuqax https://t.co/guyyedwrff                                                                                                                                           \n",
       "997  bamsoet: penularan covid-19 masih tinggi, jangan dulu relaksasi psbb  https://t.co/smcl3wqrja                                                                                                                                                                                                                       \n",
       "998  @juprisaksi bagaimna cara pendataannya dan implementasi dari peraturan psbb ini di gorontalo? sampai skrgpun banyak penduduk baik warga gorontalo dan pendatang yg terdampak dri covid-19 ini kebingungan. peraturan2 yg membingungkan. https://t.co/frlhmnrr0a                                                     \n",
       "999  [pembatasan akses warga]  dimasa psbb bandung raya, beberapa akses keluar masuk warga agak dibatasi oleh pihak setempat. hal ini sebagai upaya salah satu cara memutus rantai penyebaran covid-19  portal atau jalan daerah mana lagi nih yang melakukan pembatasan akses warganya ??? https://t.co/dbffkhkqxw      \n",
       "\n",
       "    hasil_label  \\\n",
       "0    Positif      \n",
       "1    Negatif      \n",
       "2    Negatif      \n",
       "3    Negatif      \n",
       "4    Positif      \n",
       "..       ...      \n",
       "995  Negatif      \n",
       "996  Negatif      \n",
       "997  Negatif      \n",
       "998  Negatif      \n",
       "999  Positif      \n",
       "\n",
       "                                                                                                                                                                                                                                                                              hasil_hapus_https  \\\n",
       "0    menurut tito karnavian,keberhasilan wilayah anies baswedan dalam menekan laju kasus covid-19 bukan tentang psbb jakarta  justru keberhasilan jakarta ada pd penerapan psbb yang efektif di kota depok  ternyata kuncinya kota depok friends  jng gr dulu...🤭                                 \n",
       "1    indikator makroekonomi 2021 dipengaruhi oleh baseline ekonomi 2020 yg terdampak pandemi covid-19. dampak ke ekonomi sudah dirasakan, terlihat dari melambatanya pertumbuhan ekonomi q1 2020 yg disebabkan oleh menurunnya konsumsi rumah tangga &amp; investasi akibat psbb.  #infofiskal    \n",
       "2    indonesia dijamin ngga akan beres covid-19 kalau  1. kesadaran semua lapis masyarakat rendah 2. test pcr belum mencapai target 10 ribu per hari (sampai hari ini masih 4-5 ribu sehari) 3. pemerintah masih melonggarkan psbb                                                                \n",
       "3    perubahan apa saja yang akan terjadi pada bisnis di indonesia setelah pandemi covid-19 berakhir? diberlakukannya sistem psbb untuk memutuskan rantai penyebaran virus covid-19 membuat masyarakat harus mengerjakan segala kegiatan mereka dari rumah, termasuk bekerja.                     \n",
       "4    masyarakat harus disiplin dan mematuhi protokol kesehatan pencegahan virus covid-19                                                                                                                                                                                                          \n",
       "..                                                                                    ...                                                                                                                                                                                                         \n",
       "995  memangnya *tahapan awal penyebaran covid-19 diseluruh indonesia (pandemi) sdh beres dan selesai penanganannya??? penyerangan covid-19 pd gelombang kedua, apakah setelah perayaan \"idul fitri\" or serangan balik covid dg adanya pelonggaran psbb dlm menyembuhkan penyakit stres masy.      \n",
       "996  new post (covid-19 cianjur menyebar di 18 kecamatan, pemkab terapkan psbb parsial) has been published on prasasti jabar -                                                                                                                                                                    \n",
       "997  bamsoet: penularan covid-19 masih tinggi, jangan dulu relaksasi psbb                                                                                                                                                                                                                         \n",
       "998  @juprisaksi bagaimna cara pendataannya dan implementasi dari peraturan psbb ini di gorontalo? sampai skrgpun banyak penduduk baik warga gorontalo dan pendatang yg terdampak dri covid-19 ini kebingungan. peraturan2 yg membingungkan.                                                      \n",
       "999  [pembatasan akses warga]  dimasa psbb bandung raya, beberapa akses keluar masuk warga agak dibatasi oleh pihak setempat. hal ini sebagai upaya salah satu cara memutus rantai penyebaran covid-19  portal atau jalan daerah mana lagi nih yang melakukan pembatasan akses warganya ???       \n",
       "\n",
       "                                                                                                                                                                                                                                                                            hasil_hapus_mention  \\\n",
       "0    menurut tito karnavian,keberhasilan wilayah anies baswedan dalam menekan laju kasus covid-19 bukan tentang psbb jakarta  justru keberhasilan jakarta ada pd penerapan psbb yang efektif di kota depok  ternyata kuncinya kota depok friends  jng gr dulu...🤭                                 \n",
       "1    indikator makroekonomi 2021 dipengaruhi oleh baseline ekonomi 2020 yg terdampak pandemi covid-19. dampak ke ekonomi sudah dirasakan, terlihat dari melambatanya pertumbuhan ekonomi q1 2020 yg disebabkan oleh menurunnya konsumsi rumah tangga &amp; investasi akibat psbb.  #infofiskal    \n",
       "2    indonesia dijamin ngga akan beres covid-19 kalau  1. kesadaran semua lapis masyarakat rendah 2. test pcr belum mencapai target 10 ribu per hari (sampai hari ini masih 4-5 ribu sehari) 3. pemerintah masih melonggarkan psbb                                                                \n",
       "3    perubahan apa saja yang akan terjadi pada bisnis di indonesia setelah pandemi covid-19 berakhir? diberlakukannya sistem psbb untuk memutuskan rantai penyebaran virus covid-19 membuat masyarakat harus mengerjakan segala kegiatan mereka dari rumah, termasuk bekerja.                     \n",
       "4    masyarakat harus disiplin dan mematuhi protokol kesehatan pencegahan virus covid-19                                                                                                                                                                                                          \n",
       "..                                                                                    ...                                                                                                                                                                                                         \n",
       "995  memangnya *tahapan awal penyebaran covid-19 diseluruh indonesia (pandemi) sdh beres dan selesai penanganannya??? penyerangan covid-19 pd gelombang kedua, apakah setelah perayaan \"idul fitri\" or serangan balik covid dg adanya pelonggaran psbb dlm menyembuhkan penyakit stres masy.      \n",
       "996  new post (covid-19 cianjur menyebar di 18 kecamatan, pemkab terapkan psbb parsial) has been published on prasasti jabar -                                                                                                                                                                    \n",
       "997  bamsoet: penularan covid-19 masih tinggi, jangan dulu relaksasi psbb                                                                                                                                                                                                                         \n",
       "998   bagaimna cara pendataannya dan implementasi dari peraturan psbb ini di gorontalo? sampai skrgpun banyak penduduk baik warga gorontalo dan pendatang yg terdampak dri covid-19 ini kebingungan. peraturan2 yg membingungkan.                                                                 \n",
       "999  [pembatasan akses warga]  dimasa psbb bandung raya, beberapa akses keluar masuk warga agak dibatasi oleh pihak setempat. hal ini sebagai upaya salah satu cara memutus rantai penyebaran covid-19  portal atau jalan daerah mana lagi nih yang melakukan pembatasan akses warganya ???       \n",
       "\n",
       "                                                                                                                                                                                                                                                                           hasil_hapus_hastag  \\\n",
       "0    menurut tito karnavian,keberhasilan wilayah anies baswedan dalam menekan laju kasus covid-19 bukan tentang psbb jakarta  justru keberhasilan jakarta ada pd penerapan psbb yang efektif di kota depok  ternyata kuncinya kota depok friends  jng gr dulu...🤭                               \n",
       "1    indikator makroekonomi 2021 dipengaruhi oleh baseline ekonomi 2020 yg terdampak pandemi covid-19. dampak ke ekonomi sudah dirasakan, terlihat dari melambatanya pertumbuhan ekonomi q1 2020 yg disebabkan oleh menurunnya konsumsi rumah tangga &amp; investasi akibat psbb.               \n",
       "2    indonesia dijamin ngga akan beres covid-19 kalau  1. kesadaran semua lapis masyarakat rendah 2. test pcr belum mencapai target 10 ribu per hari (sampai hari ini masih 4-5 ribu sehari) 3. pemerintah masih melonggarkan psbb                                                              \n",
       "3    perubahan apa saja yang akan terjadi pada bisnis di indonesia setelah pandemi covid-19 berakhir? diberlakukannya sistem psbb untuk memutuskan rantai penyebaran virus covid-19 membuat masyarakat harus mengerjakan segala kegiatan mereka dari rumah, termasuk bekerja.                   \n",
       "4    masyarakat harus disiplin dan mematuhi protokol kesehatan pencegahan virus covid-19                                                                                                                                                                                                        \n",
       "..                                                                                    ...                                                                                                                                                                                                       \n",
       "995  memangnya *tahapan awal penyebaran covid-19 diseluruh indonesia (pandemi) sdh beres dan selesai penanganannya??? penyerangan covid-19 pd gelombang kedua, apakah setelah perayaan \"idul fitri\" or serangan balik covid dg adanya pelonggaran psbb dlm menyembuhkan penyakit stres masy.    \n",
       "996  new post (covid-19 cianjur menyebar di 18 kecamatan, pemkab terapkan psbb parsial) has been published on prasasti jabar -                                                                                                                                                                  \n",
       "997  bamsoet: penularan covid-19 masih tinggi, jangan dulu relaksasi psbb                                                                                                                                                                                                                       \n",
       "998   bagaimna cara pendataannya dan implementasi dari peraturan psbb ini di gorontalo? sampai skrgpun banyak penduduk baik warga gorontalo dan pendatang yg terdampak dri covid-19 ini kebingungan. peraturan2 yg membingungkan.                                                               \n",
       "999  [pembatasan akses warga]  dimasa psbb bandung raya, beberapa akses keluar masuk warga agak dibatasi oleh pihak setempat. hal ini sebagai upaya salah satu cara memutus rantai penyebaran covid-19  portal atau jalan daerah mana lagi nih yang melakukan pembatasan akses warganya ???     \n",
       "\n",
       "                                                                                                                                                                                                                                                                        hasil_hapus_tandabaca  \\\n",
       "0    menurut tito karnavian keberhasilan wilayah anies baswedan dalam menekan laju kasus covid 19 bukan tentang psbb jakarta  justru keberhasilan jakarta ada pd penerapan psbb yang efektif di kota depok  ternyata kuncinya kota depok friends  jng gr dulu                                   \n",
       "1    indikator makroekonomi 2021 dipengaruhi oleh baseline ekonomi 2020 yg terdampak pandemi covid 19  dampak ke ekonomi sudah dirasakan  terlihat dari melambatanya pertumbuhan ekonomi q1 2020 yg disebabkan oleh menurunnya konsumsi rumah tangga  amp  investasi akibat psbb                \n",
       "2    indonesia dijamin ngga akan beres covid 19 kalau  1  kesadaran semua lapis masyarakat rendah 2  test pcr belum mencapai target 10 ribu per hari  sampai hari ini masih 4 5 ribu sehari  3  pemerintah masih melonggarkan psbb                                                              \n",
       "3    perubahan apa saja yang akan terjadi pada bisnis di indonesia setelah pandemi covid 19 berakhir  diberlakukannya sistem psbb untuk memutuskan rantai penyebaran virus covid 19 membuat masyarakat harus mengerjakan segala kegiatan mereka dari rumah  termasuk bekerja                    \n",
       "4    masyarakat harus disiplin dan mematuhi protokol kesehatan pencegahan virus covid 19                                                                                                                                                                                                        \n",
       "..                                                                                    ...                                                                                                                                                                                                       \n",
       "995  memangnya  tahapan awal penyebaran covid 19 diseluruh indonesia  pandemi  sdh beres dan selesai penanganannya    penyerangan covid 19 pd gelombang kedua  apakah setelah perayaan  idul fitri  or serangan balik covid dg adanya pelonggaran psbb dlm menyembuhkan penyakit stres masy     \n",
       "996  new post  covid 19 cianjur menyebar di 18 kecamatan  pemkab terapkan psbb parsial  has been published on prasasti jabar                                                                                                                                                                    \n",
       "997  bamsoet  penularan covid 19 masih tinggi  jangan dulu relaksasi psbb                                                                                                                                                                                                                       \n",
       "998   bagaimna cara pendataannya dan implementasi dari peraturan psbb ini di gorontalo  sampai skrgpun banyak penduduk baik warga gorontalo dan pendatang yg terdampak dri covid 19 ini kebingungan  peraturan2 yg membingungkan                                                                \n",
       "999   pembatasan akses warga   dimasa psbb bandung raya  beberapa akses keluar masuk warga agak dibatasi oleh pihak setempat  hal ini sebagai upaya salah satu cara memutus rantai penyebaran covid 19  portal atau jalan daerah mana lagi nih yang melakukan pembatasan akses warganya         \n",
       "\n",
       "                                                                                                                                                                                                                                                                          hasil_hapus_angka  \\\n",
       "0    menurut tito karnavian keberhasilan wilayah anies baswedan dalam menekan laju kasus covid   bukan tentang psbb jakarta  justru keberhasilan jakarta ada pd penerapan psbb yang efektif di kota depok  ternyata kuncinya kota depok friends  jng gr dulu                                  \n",
       "1    indikator makroekonomi   dipengaruhi oleh baseline ekonomi   yg terdampak pandemi covid    dampak ke ekonomi sudah dirasakan  terlihat dari melambatanya pertumbuhan ekonomi q    yg disebabkan oleh menurunnya konsumsi rumah tangga  amp  investasi akibat psbb                        \n",
       "2    indonesia dijamin ngga akan beres covid   kalau     kesadaran semua lapis masyarakat rendah    test pcr belum mencapai target   ribu per hari  sampai hari ini masih     ribu sehari     pemerintah masih melonggarkan psbb                                                              \n",
       "3    perubahan apa saja yang akan terjadi pada bisnis di indonesia setelah pandemi covid   berakhir  diberlakukannya sistem psbb untuk memutuskan rantai penyebaran virus covid   membuat masyarakat harus mengerjakan segala kegiatan mereka dari rumah  termasuk bekerja                    \n",
       "4    masyarakat harus disiplin dan mematuhi protokol kesehatan pencegahan virus covid                                                                                                                                                                                                         \n",
       "..                                                                                   ...                                                                                                                                                                                                      \n",
       "995  memangnya  tahapan awal penyebaran covid   diseluruh indonesia  pandemi  sdh beres dan selesai penanganannya    penyerangan covid   pd gelombang kedua  apakah setelah perayaan  idul fitri  or serangan balik covid dg adanya pelonggaran psbb dlm menyembuhkan penyakit stres masy     \n",
       "996  new post  covid   cianjur menyebar di   kecamatan  pemkab terapkan psbb parsial  has been published on prasasti jabar                                                                                                                                                                    \n",
       "997  bamsoet  penularan covid   masih tinggi  jangan dulu relaksasi psbb                                                                                                                                                                                                                      \n",
       "998   bagaimna cara pendataannya dan implementasi dari peraturan psbb ini di gorontalo  sampai skrgpun banyak penduduk baik warga gorontalo dan pendatang yg terdampak dri covid   ini kebingungan  peraturan  yg membingungkan                                                               \n",
       "999   pembatasan akses warga   dimasa psbb bandung raya  beberapa akses keluar masuk warga agak dibatasi oleh pihak setempat  hal ini sebagai upaya salah satu cara memutus rantai penyebaran covid    portal atau jalan daerah mana lagi nih yang melakukan pembatasan akses warganya        \n",
       "\n",
       "                                                                                                                                                                                                                                                          hasil_hapus_spasiganda  \\\n",
       "0    menurut tito karnavian keberhasilan wilayah anies baswedan dalam menekan laju kasus covid bukan tentang psbb jakarta justru keberhasilan jakarta ada pd penerapan psbb yang efektif di kota depok ternyata kuncinya kota depok friends jng gr dulu                            \n",
       "1    indikator makroekonomi dipengaruhi oleh baseline ekonomi yg terdampak pandemi covid dampak ke ekonomi sudah dirasakan terlihat dari melambatanya pertumbuhan ekonomi q yg disebabkan oleh menurunnya konsumsi rumah tangga amp investasi akibat psbb                          \n",
       "2    indonesia dijamin ngga akan beres covid kalau kesadaran semua lapis masyarakat rendah test pcr belum mencapai target ribu per hari sampai hari ini masih ribu sehari pemerintah masih melonggarkan psbb                                                                       \n",
       "3    perubahan apa saja yang akan terjadi pada bisnis di indonesia setelah pandemi covid berakhir diberlakukannya sistem psbb untuk memutuskan rantai penyebaran virus covid membuat masyarakat harus mengerjakan segala kegiatan mereka dari rumah termasuk bekerja               \n",
       "4    masyarakat harus disiplin dan mematuhi protokol kesehatan pencegahan virus covid                                                                                                                                                                                              \n",
       "..                                                                                 ...                                                                                                                                                                                             \n",
       "995  memangnya tahapan awal penyebaran covid diseluruh indonesia pandemi sdh beres dan selesai penanganannya penyerangan covid pd gelombang kedua apakah setelah perayaan idul fitri or serangan balik covid dg adanya pelonggaran psbb dlm menyembuhkan penyakit stres masy       \n",
       "996  new post covid cianjur menyebar di kecamatan pemkab terapkan psbb parsial has been published on prasasti jabar                                                                                                                                                                \n",
       "997  bamsoet penularan covid masih tinggi jangan dulu relaksasi psbb                                                                                                                                                                                                               \n",
       "998   bagaimna cara pendataannya dan implementasi dari peraturan psbb ini di gorontalo sampai skrgpun banyak penduduk baik warga gorontalo dan pendatang yg terdampak dri covid ini kebingungan peraturan yg membingungkan                                                         \n",
       "999   pembatasan akses warga dimasa psbb bandung raya beberapa akses keluar masuk warga agak dibatasi oleh pihak setempat hal ini sebagai upaya salah satu cara memutus rantai penyebaran covid portal atau jalan daerah mana lagi nih yang melakukan pembatasan akses warganya    \n",
       "\n",
       "                                                                                                                                                                                                                                                          hasil_hapus_spasiawal  \\\n",
       "0    menurut tito karnavian keberhasilan wilayah anies baswedan dalam menekan laju kasus covid bukan tentang psbb jakarta justru keberhasilan jakarta ada pd penerapan psbb yang efektif di kota depok ternyata kuncinya kota depok friends jng gr dulu                           \n",
       "1    indikator makroekonomi dipengaruhi oleh baseline ekonomi yg terdampak pandemi covid dampak ke ekonomi sudah dirasakan terlihat dari melambatanya pertumbuhan ekonomi q yg disebabkan oleh menurunnya konsumsi rumah tangga amp investasi akibat psbb                         \n",
       "2    indonesia dijamin ngga akan beres covid kalau kesadaran semua lapis masyarakat rendah test pcr belum mencapai target ribu per hari sampai hari ini masih ribu sehari pemerintah masih melonggarkan psbb                                                                      \n",
       "3    perubahan apa saja yang akan terjadi pada bisnis di indonesia setelah pandemi covid berakhir diberlakukannya sistem psbb untuk memutuskan rantai penyebaran virus covid membuat masyarakat harus mengerjakan segala kegiatan mereka dari rumah termasuk bekerja              \n",
       "4    masyarakat harus disiplin dan mematuhi protokol kesehatan pencegahan virus covid                                                                                                                                                                                             \n",
       "..                                                                                 ...                                                                                                                                                                                            \n",
       "995  memangnya tahapan awal penyebaran covid diseluruh indonesia pandemi sdh beres dan selesai penanganannya penyerangan covid pd gelombang kedua apakah setelah perayaan idul fitri or serangan balik covid dg adanya pelonggaran psbb dlm menyembuhkan penyakit stres masy      \n",
       "996  new post covid cianjur menyebar di kecamatan pemkab terapkan psbb parsial has been published on prasasti jabar                                                                                                                                                               \n",
       "997  bamsoet penularan covid masih tinggi jangan dulu relaksasi psbb                                                                                                                                                                                                              \n",
       "998  bagaimna cara pendataannya dan implementasi dari peraturan psbb ini di gorontalo sampai skrgpun banyak penduduk baik warga gorontalo dan pendatang yg terdampak dri covid ini kebingungan peraturan yg membingungkan                                                         \n",
       "999  pembatasan akses warga dimasa psbb bandung raya beberapa akses keluar masuk warga agak dibatasi oleh pihak setempat hal ini sebagai upaya salah satu cara memutus rantai penyebaran covid portal atau jalan daerah mana lagi nih yang melakukan pembatasan akses warganya    \n",
       "\n",
       "                                                                                                                                                                                                                                                        hasil_hapus_spasiakhir  \n",
       "0    menurut tito karnavian keberhasilan wilayah anies baswedan dalam menekan laju kasus covid bukan tentang psbb jakarta justru keberhasilan jakarta ada pd penerapan psbb yang efektif di kota depok ternyata kuncinya kota depok friends jng gr dulu                         \n",
       "1    indikator makroekonomi dipengaruhi oleh baseline ekonomi yg terdampak pandemi covid dampak ke ekonomi sudah dirasakan terlihat dari melambatanya pertumbuhan ekonomi q yg disebabkan oleh menurunnya konsumsi rumah tangga amp investasi akibat psbb                       \n",
       "2    indonesia dijamin ngga akan beres covid kalau kesadaran semua lapis masyarakat rendah test pcr belum mencapai target ribu per hari sampai hari ini masih ribu sehari pemerintah masih melonggarkan psbb                                                                    \n",
       "3    perubahan apa saja yang akan terjadi pada bisnis di indonesia setelah pandemi covid berakhir diberlakukannya sistem psbb untuk memutuskan rantai penyebaran virus covid membuat masyarakat harus mengerjakan segala kegiatan mereka dari rumah termasuk bekerja            \n",
       "4    masyarakat harus disiplin dan mematuhi protokol kesehatan pencegahan virus covid                                                                                                                                                                                           \n",
       "..                                                                                ...                                                                                                                                                                                           \n",
       "995  memangnya tahapan awal penyebaran covid diseluruh indonesia pandemi sdh beres dan selesai penanganannya penyerangan covid pd gelombang kedua apakah setelah perayaan idul fitri or serangan balik covid dg adanya pelonggaran psbb dlm menyembuhkan penyakit stres masy    \n",
       "996  new post covid cianjur menyebar di kecamatan pemkab terapkan psbb parsial has been published on prasasti jabar                                                                                                                                                             \n",
       "997  bamsoet penularan covid masih tinggi jangan dulu relaksasi psbb                                                                                                                                                                                                            \n",
       "998  bagaimna cara pendataannya dan implementasi dari peraturan psbb ini di gorontalo sampai skrgpun banyak penduduk baik warga gorontalo dan pendatang yg terdampak dri covid ini kebingungan peraturan yg membingungkan                                                       \n",
       "999  pembatasan akses warga dimasa psbb bandung raya beberapa akses keluar masuk warga agak dibatasi oleh pihak setempat hal ini sebagai upaya salah satu cara memutus rantai penyebaran covid portal atau jalan daerah mana lagi nih yang melakukan pembatasan akses warganya  \n",
       "\n",
       "[1000 rows x 11 columns]"
      ]
     },
     "execution_count": 7,
     "metadata": {},
     "output_type": "execute_result"
    }
   ],
   "source": [
    "labeled_data"
   ]
  },
  {
   "cell_type": "code",
   "execution_count": null,
   "metadata": {},
   "outputs": [],
   "source": [
    "labeled_data.to_csv(r'D:\\Kuliah\\PI\\Baru\\04tweets_hasil_cleansing.csv', index=False) #Menyimpan hasil cleansing"
   ]
  },
  {
   "cell_type": "code",
   "execution_count": null,
   "metadata": {},
   "outputs": [],
   "source": [
    "source=r\"D:\\Kuliah\\PI\\Baru\\04tweets_hasil_cleansing.csv\"\n",
    "uncleaned_data1 = pd.read_csv(source) #Mengambil data hasil cleansing yang sudah disimpan sebelumnya\n",
    "uncleaned_data1 = uncleaned_data.drop(['tweet_awal','hasil_case_folding','hasil_hapus_https',\n",
    "                                       'hasil_hapus_mention','hasil_hapus_hastag','hasil_hapus_tandabaca',\n",
    "                                       'hasil_hapus_angka','hasil_hapus_spasiganda','hasil_hapus_spasiawal'], axis=1) #Menghapus kolom yang tidak perlu\n",
    "uncleaned_data1 = uncleaned_data[[\"hasil_hapus_spasiakhir\",\"hasil_label\"]] #Mengurutkan kolom pada tabel"
   ]
  },
  {
   "cell_type": "code",
   "execution_count": null,
   "metadata": {},
   "outputs": [],
   "source": [
    "uncleaned_data1.drop_duplicates(inplace=True) #Menghapus data duplikat\n",
    "uncleaned_data1.to_csv(r'D:\\Kuliah\\PI\\Baru\\05tweets_hasil_hapus_duplikat.csv', index=False) #Menyimpan hasil hapus duplikat"
   ]
  },
  {
   "cell_type": "code",
   "execution_count": null,
   "metadata": {},
   "outputs": [],
   "source": [
    "uncleaned_data1 = uncleaned_data.dropna(axis=0, subset=['hasil_label']) #Menghapus data kosong\n",
    "uncleaned_data1.to_csv(r'D:\\Kuliah\\PI\\Baru\\06tweets_hasil_hapus_data_kosong.csv', index=False)#Menyimpan hasil hapus data kosong"
   ]
  },
  {
   "cell_type": "code",
   "execution_count": 2,
   "metadata": {},
   "outputs": [
    {
     "data": {
      "text/plain": [
       "(877, 5)"
      ]
     },
     "execution_count": 2,
     "metadata": {},
     "output_type": "execute_result"
    }
   ],
   "source": [
    "source=r\"D:\\Kuliah\\PI\\Baru\\06tweets_hasil_hapus_data_kosong.csv\"\n",
    "uncleaned_data2 = pd.read_csv(source) #Mengambil data hasil hapus data kosong yang sudah disimpan sebelumnya\n",
    "uncleaned_data2.shape"
   ]
  },
  {
   "cell_type": "code",
   "execution_count": 3,
   "metadata": {},
   "outputs": [
    {
     "name": "stdout",
     "output_type": "stream",
     "text": [
      "<class 'pandas.core.frame.DataFrame'>\n",
      "RangeIndex: 877 entries, 0 to 876\n",
      "Data columns (total 5 columns):\n",
      " #   Column                  Non-Null Count  Dtype  \n",
      "---  ------                  --------------  -----  \n",
      " 0   hasil_hapus_spasiakhir  877 non-null    object \n",
      " 1   hasil_label             877 non-null    object \n",
      " 2   hasil_stopword1         0 non-null      float64\n",
      " 3   hasil_stopword2         0 non-null      float64\n",
      " 4   hasil_stemming          0 non-null      float64\n",
      "dtypes: float64(3), object(2)\n",
      "memory usage: 34.4+ KB\n"
     ]
    }
   ],
   "source": [
    "uncleaned_data2.info()"
   ]
  },
  {
   "cell_type": "code",
   "execution_count": 4,
   "metadata": {},
   "outputs": [],
   "source": [
    "#Menghapus Stopword#\n",
    "\n",
    "from Sastrawi.StopWordRemover.StopWordRemoverFactory import StopWordRemoverFactory, StopWordRemover, ArrayDictionary\n",
    "\n",
    "\n",
    "stop_factory = StopWordRemoverFactory().get_stop_words()\n",
    "more_stopword =['adanya','adapun','agaknya','akankah','akhirnya','aku',\n",
    "                'akulah','amatlah','andalah','antar','diantaranya','antaranya',\n",
    "                'diantara','apa','apaan','apabila','apatah','ataukah','ataupun',\n",
    "                'bagai','bagaikan','sebagainya','bagaimana','sebagaimana','bagaimanakah',\n",
    "                'bahkan','bahwasanya','sebaliknya','banyak','sebanyak','beberapa','seberapa',\n",
    "                'begini','beginian','beginikah','beginilah','sebegini','begitukah','begitulah',\n",
    "                'begitupun','sebegitu','belumlah','sebelumnya','sebenarnya','berapa','berapakah',\n",
    "                'berapalah','berapapun','betulkah','biasa','biasanya','bila','bilakah','bisakah','sebisanya',\n",
    "                'bolehkah','bolehlah','buat','bukan','bukankah','bukanlah','bukannya','cuma','percuma','dekat',\n",
    "                'demikianlah','sedemikian','depan','dialah','dini','diri','dirinya','terdiri','dong','dulu',\n",
    "                'enggak','enggaknya','entah','entahlah','terhadapnya','hampir','hanyalah','haruslah','harusnya',\n",
    "                'hendak','hendaklah','hendaknya','hingga','ialah','ibarat','inginkah','inginkan','inikah','inilah',\n",
    "                'itukah','jangan','jangankan','janganlah','jikalau','justru','kala','kalau','kalaulah','kalaupun',\n",
    "                'kalian','kamilah','kamu','kamulah','kan','kapan','kapankah','kapanpun','dikarenakan','karenanya','kecil',\n",
    "                'kemudian','kepadanya','seketika','khususnya','kini','kinilah','kiranya','sekiranya','kitalah','kok','lagian',\n",
    "                'lah','lainnya','selaku','lalu','melalui','terlalu','lama','lamanya','selama','selamanya','lebih','terlebih',\n",
    "                'bermacam','macam','semacam','makanya','makin','malah','malahan','mampu','mampukah','mana','manakala',\n",
    "                'manalagi''masihkah','semasih''masing','mau''maupun','semaunya','memang','merekalah','meski','meskipun',\n",
    "                'semula','mungkin','mungkinkah','nah','nantinya','nyaris','olehnya','seorang','seseorang','padanya',\n",
    "                'padahal','paling','sepanjang','pantas','sepantasnya','sepantasnyalah','pastilah','per','pernah','merupakan',\n",
    "                'rupanya','serupa','saatnya','sesaat','sajalah','saling','bersama','sama','sesama''sana','sangat','sangatlah',\n",
    "                'sayalah','se','sebabnya','sebuah','tersebut','tersebutlah','sedang','sedikit','sedikitnya','segala','segalanya',\n",
    "                'segera','sesegera','sejak','sejenak','sekali','sekalian','sekalipun','sesekali','sekaligus','sekarang','sekitarnya',\n",
    "                'sela','selalu','seluruh','seluruhnya','semakin','sempat','semua','semuanya','sendiri','sendirinya','sepertinya',\n",
    "                'sering','seringnya','siapa','siapakah','siapapun','disini','disinilah','sini','sinilah','sesuatunya',\n",
    "                'suatu','sesudahnya','sudahkah','sudahlah','tadi','tadinya','tak','tentulah',\n",
    "                'tentunya','tertentu','tiap','tidakkah','toh','waduh','wah','wahai','sewaktu','walaupun',\n",
    "                'wong','a','b','c','d','e','f','d','h','i','j','k','l','m','n','o','p','q','r','s','t','u','v','w','x','y','z','yg','vs','dgn']\n",
    "\n",
    "data = stop_factory + more_stopword #Menambah list stopword\n",
    "dictionary = ArrayDictionary(data)\n",
    "str = StopWordRemover(dictionary)"
   ]
  },
  {
   "cell_type": "code",
   "execution_count": 5,
   "metadata": {
    "scrolled": true
   },
   "outputs": [
    {
     "name": "stderr",
     "output_type": "stream",
     "text": [
      "C:\\Users\\Nabhan\\anaconda3\\lib\\site-packages\\pandas\\core\\indexing.py:670: SettingWithCopyWarning: \n",
      "A value is trying to be set on a copy of a slice from a DataFrame\n",
      "\n",
      "See the caveats in the documentation: https://pandas.pydata.org/pandas-docs/stable/user_guide/indexing.html#returning-a-view-versus-a-copy\n",
      "  self._setitem_with_indexer(indexer, value)\n"
     ]
    }
   ],
   "source": [
    "#Proses hapus stopword pertama\n",
    "\n",
    "for i, hasil_hapus_spasiakhir in enumerate (uncleaned_data2['hasil_hapus_spasiakhir']):\n",
    "    stop = str.remove(hasil_hapus_spasiakhir)\n",
    "    uncleaned_data2['hasil_stopword1'].iloc[i] = (stop)"
   ]
  },
  {
   "cell_type": "code",
   "execution_count": 6,
   "metadata": {},
   "outputs": [
    {
     "data": {
      "text/html": [
       "<div>\n",
       "<style scoped>\n",
       "    .dataframe tbody tr th:only-of-type {\n",
       "        vertical-align: middle;\n",
       "    }\n",
       "\n",
       "    .dataframe tbody tr th {\n",
       "        vertical-align: top;\n",
       "    }\n",
       "\n",
       "    .dataframe thead th {\n",
       "        text-align: right;\n",
       "    }\n",
       "</style>\n",
       "<table border=\"1\" class=\"dataframe\">\n",
       "  <thead>\n",
       "    <tr style=\"text-align: right;\">\n",
       "      <th></th>\n",
       "      <th>hasil_hapus_spasiakhir</th>\n",
       "      <th>hasil_label</th>\n",
       "      <th>hasil_stopword1</th>\n",
       "      <th>hasil_stopword2</th>\n",
       "      <th>hasil_stemming</th>\n",
       "    </tr>\n",
       "  </thead>\n",
       "  <tbody>\n",
       "    <tr>\n",
       "      <th>0</th>\n",
       "      <td>menurut tito karnavian keberhasilan wilayah an...</td>\n",
       "      <td>Positif</td>\n",
       "      <td>tito karnavian keberhasilan wilayah anies basw...</td>\n",
       "      <td>NaN</td>\n",
       "      <td>NaN</td>\n",
       "    </tr>\n",
       "    <tr>\n",
       "      <th>1</th>\n",
       "      <td>indikator makroekonomi dipengaruhi oleh baseli...</td>\n",
       "      <td>Negatif</td>\n",
       "      <td>indikator makroekonomi dipengaruhi baseline ek...</td>\n",
       "      <td>NaN</td>\n",
       "      <td>NaN</td>\n",
       "    </tr>\n",
       "    <tr>\n",
       "      <th>2</th>\n",
       "      <td>indonesia dijamin ngga akan beres covid kalau ...</td>\n",
       "      <td>Negatif</td>\n",
       "      <td>indonesia dijamin ngga beres covid kesadaran l...</td>\n",
       "      <td>NaN</td>\n",
       "      <td>NaN</td>\n",
       "    </tr>\n",
       "    <tr>\n",
       "      <th>3</th>\n",
       "      <td>perubahan apa saja yang akan terjadi pada bisn...</td>\n",
       "      <td>Negatif</td>\n",
       "      <td>perubahan saja akan terjadi bisnis indonesia p...</td>\n",
       "      <td>NaN</td>\n",
       "      <td>NaN</td>\n",
       "    </tr>\n",
       "    <tr>\n",
       "      <th>4</th>\n",
       "      <td>masyarakat harus disiplin dan mematuhi protoko...</td>\n",
       "      <td>Positif</td>\n",
       "      <td>masyarakat disiplin mematuhi protokol kesehata...</td>\n",
       "      <td>NaN</td>\n",
       "      <td>NaN</td>\n",
       "    </tr>\n",
       "    <tr>\n",
       "      <th>...</th>\n",
       "      <td>...</td>\n",
       "      <td>...</td>\n",
       "      <td>...</td>\n",
       "      <td>...</td>\n",
       "      <td>...</td>\n",
       "    </tr>\n",
       "    <tr>\n",
       "      <th>872</th>\n",
       "      <td>lihat video bapak ngamuk di bogor krn ditegur ...</td>\n",
       "      <td>Negatif</td>\n",
       "      <td>lihat video bapak ngamuk bogor krn ditegur ter...</td>\n",
       "      <td>NaN</td>\n",
       "      <td>NaN</td>\n",
       "    </tr>\n",
       "    <tr>\n",
       "      <th>873</th>\n",
       "      <td>memangnya tahapan awal penyebaran covid diselu...</td>\n",
       "      <td>Negatif</td>\n",
       "      <td>memangnya tahapan awal penyebaran covid diselu...</td>\n",
       "      <td>NaN</td>\n",
       "      <td>NaN</td>\n",
       "    </tr>\n",
       "    <tr>\n",
       "      <th>874</th>\n",
       "      <td>new post covid cianjur menyebar di kecamatan p...</td>\n",
       "      <td>Negatif</td>\n",
       "      <td>new post covid cianjur menyebar kecamatan pemk...</td>\n",
       "      <td>NaN</td>\n",
       "      <td>NaN</td>\n",
       "    </tr>\n",
       "    <tr>\n",
       "      <th>875</th>\n",
       "      <td>bagaimna cara pendataannya dan implementasi da...</td>\n",
       "      <td>Negatif</td>\n",
       "      <td>bagaimna cara pendataannya implementasi peratu...</td>\n",
       "      <td>NaN</td>\n",
       "      <td>NaN</td>\n",
       "    </tr>\n",
       "    <tr>\n",
       "      <th>876</th>\n",
       "      <td>pembatasan akses warga dimasa psbb bandung ray...</td>\n",
       "      <td>Positif</td>\n",
       "      <td>pembatasan akses warga dimasa psbb bandung ray...</td>\n",
       "      <td>NaN</td>\n",
       "      <td>NaN</td>\n",
       "    </tr>\n",
       "  </tbody>\n",
       "</table>\n",
       "<p>877 rows × 5 columns</p>\n",
       "</div>"
      ],
      "text/plain": [
       "                                hasil_hapus_spasiakhir hasil_label  \\\n",
       "0    menurut tito karnavian keberhasilan wilayah an...     Positif   \n",
       "1    indikator makroekonomi dipengaruhi oleh baseli...     Negatif   \n",
       "2    indonesia dijamin ngga akan beres covid kalau ...     Negatif   \n",
       "3    perubahan apa saja yang akan terjadi pada bisn...     Negatif   \n",
       "4    masyarakat harus disiplin dan mematuhi protoko...     Positif   \n",
       "..                                                 ...         ...   \n",
       "872  lihat video bapak ngamuk di bogor krn ditegur ...     Negatif   \n",
       "873  memangnya tahapan awal penyebaran covid diselu...     Negatif   \n",
       "874  new post covid cianjur menyebar di kecamatan p...     Negatif   \n",
       "875  bagaimna cara pendataannya dan implementasi da...     Negatif   \n",
       "876  pembatasan akses warga dimasa psbb bandung ray...     Positif   \n",
       "\n",
       "                                       hasil_stopword1  hasil_stopword2  \\\n",
       "0    tito karnavian keberhasilan wilayah anies basw...              NaN   \n",
       "1    indikator makroekonomi dipengaruhi baseline ek...              NaN   \n",
       "2    indonesia dijamin ngga beres covid kesadaran l...              NaN   \n",
       "3    perubahan saja akan terjadi bisnis indonesia p...              NaN   \n",
       "4    masyarakat disiplin mematuhi protokol kesehata...              NaN   \n",
       "..                                                 ...              ...   \n",
       "872  lihat video bapak ngamuk bogor krn ditegur ter...              NaN   \n",
       "873  memangnya tahapan awal penyebaran covid diselu...              NaN   \n",
       "874  new post covid cianjur menyebar kecamatan pemk...              NaN   \n",
       "875  bagaimna cara pendataannya implementasi peratu...              NaN   \n",
       "876  pembatasan akses warga dimasa psbb bandung ray...              NaN   \n",
       "\n",
       "     hasil_stemming  \n",
       "0               NaN  \n",
       "1               NaN  \n",
       "2               NaN  \n",
       "3               NaN  \n",
       "4               NaN  \n",
       "..              ...  \n",
       "872             NaN  \n",
       "873             NaN  \n",
       "874             NaN  \n",
       "875             NaN  \n",
       "876             NaN  \n",
       "\n",
       "[877 rows x 5 columns]"
      ]
     },
     "execution_count": 6,
     "metadata": {},
     "output_type": "execute_result"
    }
   ],
   "source": [
    "uncleaned_data2"
   ]
  },
  {
   "cell_type": "code",
   "execution_count": 7,
   "metadata": {},
   "outputs": [
    {
     "name": "stderr",
     "output_type": "stream",
     "text": [
      "C:\\Users\\Nabhan\\anaconda3\\lib\\site-packages\\pandas\\core\\indexing.py:670: SettingWithCopyWarning: \n",
      "A value is trying to be set on a copy of a slice from a DataFrame\n",
      "\n",
      "See the caveats in the documentation: https://pandas.pydata.org/pandas-docs/stable/user_guide/indexing.html#returning-a-view-versus-a-copy\n",
      "  self._setitem_with_indexer(indexer, value)\n"
     ]
    }
   ],
   "source": [
    "#Proses hapus stopword kedua\n",
    "\n",
    "for i, hasil_stopword1 in enumerate (uncleaned_data2['hasil_stopword1']):\n",
    "    stop = str.remove(hasil_stopword1)\n",
    "    uncleaned_data2['hasil_stopword2'].iloc[i] = (stop)"
   ]
  },
  {
   "cell_type": "code",
   "execution_count": 8,
   "metadata": {
    "collapsed": true,
    "jupyter": {
     "outputs_hidden": true
    }
   },
   "outputs": [
    {
     "data": {
      "text/html": [
       "<div>\n",
       "<style scoped>\n",
       "    .dataframe tbody tr th:only-of-type {\n",
       "        vertical-align: middle;\n",
       "    }\n",
       "\n",
       "    .dataframe tbody tr th {\n",
       "        vertical-align: top;\n",
       "    }\n",
       "\n",
       "    .dataframe thead th {\n",
       "        text-align: right;\n",
       "    }\n",
       "</style>\n",
       "<table border=\"1\" class=\"dataframe\">\n",
       "  <thead>\n",
       "    <tr style=\"text-align: right;\">\n",
       "      <th></th>\n",
       "      <th>hasil_hapus_spasiakhir</th>\n",
       "      <th>hasil_label</th>\n",
       "      <th>hasil_stopword1</th>\n",
       "      <th>hasil_stopword2</th>\n",
       "      <th>hasil_stemming</th>\n",
       "    </tr>\n",
       "  </thead>\n",
       "  <tbody>\n",
       "    <tr>\n",
       "      <th>0</th>\n",
       "      <td>menurut tito karnavian keberhasilan wilayah an...</td>\n",
       "      <td>Positif</td>\n",
       "      <td>tito karnavian keberhasilan wilayah anies basw...</td>\n",
       "      <td>tito karnavian keberhasilan wilayah anies basw...</td>\n",
       "      <td>NaN</td>\n",
       "    </tr>\n",
       "    <tr>\n",
       "      <th>1</th>\n",
       "      <td>indikator makroekonomi dipengaruhi oleh baseli...</td>\n",
       "      <td>Negatif</td>\n",
       "      <td>indikator makroekonomi dipengaruhi baseline ek...</td>\n",
       "      <td>indikator makroekonomi dipengaruhi baseline ek...</td>\n",
       "      <td>NaN</td>\n",
       "    </tr>\n",
       "    <tr>\n",
       "      <th>2</th>\n",
       "      <td>indonesia dijamin ngga akan beres covid kalau ...</td>\n",
       "      <td>Negatif</td>\n",
       "      <td>indonesia dijamin ngga beres covid kesadaran l...</td>\n",
       "      <td>indonesia dijamin ngga beres covid kesadaran l...</td>\n",
       "      <td>NaN</td>\n",
       "    </tr>\n",
       "    <tr>\n",
       "      <th>3</th>\n",
       "      <td>perubahan apa saja yang akan terjadi pada bisn...</td>\n",
       "      <td>Negatif</td>\n",
       "      <td>perubahan saja akan terjadi bisnis indonesia p...</td>\n",
       "      <td>perubahan akan terjadi bisnis indonesia pandem...</td>\n",
       "      <td>NaN</td>\n",
       "    </tr>\n",
       "    <tr>\n",
       "      <th>4</th>\n",
       "      <td>masyarakat harus disiplin dan mematuhi protoko...</td>\n",
       "      <td>Positif</td>\n",
       "      <td>masyarakat disiplin mematuhi protokol kesehata...</td>\n",
       "      <td>masyarakat disiplin mematuhi protokol kesehata...</td>\n",
       "      <td>NaN</td>\n",
       "    </tr>\n",
       "    <tr>\n",
       "      <th>...</th>\n",
       "      <td>...</td>\n",
       "      <td>...</td>\n",
       "      <td>...</td>\n",
       "      <td>...</td>\n",
       "      <td>...</td>\n",
       "    </tr>\n",
       "    <tr>\n",
       "      <th>872</th>\n",
       "      <td>lihat video bapak ngamuk di bogor krn ditegur ...</td>\n",
       "      <td>Negatif</td>\n",
       "      <td>lihat video bapak ngamuk bogor krn ditegur ter...</td>\n",
       "      <td>lihat video bapak ngamuk bogor krn ditegur ter...</td>\n",
       "      <td>NaN</td>\n",
       "    </tr>\n",
       "    <tr>\n",
       "      <th>873</th>\n",
       "      <td>memangnya tahapan awal penyebaran covid diselu...</td>\n",
       "      <td>Negatif</td>\n",
       "      <td>memangnya tahapan awal penyebaran covid diselu...</td>\n",
       "      <td>memangnya tahapan awal penyebaran covid diselu...</td>\n",
       "      <td>NaN</td>\n",
       "    </tr>\n",
       "    <tr>\n",
       "      <th>874</th>\n",
       "      <td>new post covid cianjur menyebar di kecamatan p...</td>\n",
       "      <td>Negatif</td>\n",
       "      <td>new post covid cianjur menyebar kecamatan pemk...</td>\n",
       "      <td>new post covid cianjur menyebar kecamatan pemk...</td>\n",
       "      <td>NaN</td>\n",
       "    </tr>\n",
       "    <tr>\n",
       "      <th>875</th>\n",
       "      <td>bagaimna cara pendataannya dan implementasi da...</td>\n",
       "      <td>Negatif</td>\n",
       "      <td>bagaimna cara pendataannya implementasi peratu...</td>\n",
       "      <td>bagaimna cara pendataannya implementasi peratu...</td>\n",
       "      <td>NaN</td>\n",
       "    </tr>\n",
       "    <tr>\n",
       "      <th>876</th>\n",
       "      <td>pembatasan akses warga dimasa psbb bandung ray...</td>\n",
       "      <td>Positif</td>\n",
       "      <td>pembatasan akses warga dimasa psbb bandung ray...</td>\n",
       "      <td>pembatasan akses warga dimasa psbb bandung ray...</td>\n",
       "      <td>NaN</td>\n",
       "    </tr>\n",
       "  </tbody>\n",
       "</table>\n",
       "<p>877 rows × 5 columns</p>\n",
       "</div>"
      ],
      "text/plain": [
       "                                hasil_hapus_spasiakhir hasil_label  \\\n",
       "0    menurut tito karnavian keberhasilan wilayah an...     Positif   \n",
       "1    indikator makroekonomi dipengaruhi oleh baseli...     Negatif   \n",
       "2    indonesia dijamin ngga akan beres covid kalau ...     Negatif   \n",
       "3    perubahan apa saja yang akan terjadi pada bisn...     Negatif   \n",
       "4    masyarakat harus disiplin dan mematuhi protoko...     Positif   \n",
       "..                                                 ...         ...   \n",
       "872  lihat video bapak ngamuk di bogor krn ditegur ...     Negatif   \n",
       "873  memangnya tahapan awal penyebaran covid diselu...     Negatif   \n",
       "874  new post covid cianjur menyebar di kecamatan p...     Negatif   \n",
       "875  bagaimna cara pendataannya dan implementasi da...     Negatif   \n",
       "876  pembatasan akses warga dimasa psbb bandung ray...     Positif   \n",
       "\n",
       "                                       hasil_stopword1  \\\n",
       "0    tito karnavian keberhasilan wilayah anies basw...   \n",
       "1    indikator makroekonomi dipengaruhi baseline ek...   \n",
       "2    indonesia dijamin ngga beres covid kesadaran l...   \n",
       "3    perubahan saja akan terjadi bisnis indonesia p...   \n",
       "4    masyarakat disiplin mematuhi protokol kesehata...   \n",
       "..                                                 ...   \n",
       "872  lihat video bapak ngamuk bogor krn ditegur ter...   \n",
       "873  memangnya tahapan awal penyebaran covid diselu...   \n",
       "874  new post covid cianjur menyebar kecamatan pemk...   \n",
       "875  bagaimna cara pendataannya implementasi peratu...   \n",
       "876  pembatasan akses warga dimasa psbb bandung ray...   \n",
       "\n",
       "                                       hasil_stopword2  hasil_stemming  \n",
       "0    tito karnavian keberhasilan wilayah anies basw...             NaN  \n",
       "1    indikator makroekonomi dipengaruhi baseline ek...             NaN  \n",
       "2    indonesia dijamin ngga beres covid kesadaran l...             NaN  \n",
       "3    perubahan akan terjadi bisnis indonesia pandem...             NaN  \n",
       "4    masyarakat disiplin mematuhi protokol kesehata...             NaN  \n",
       "..                                                 ...             ...  \n",
       "872  lihat video bapak ngamuk bogor krn ditegur ter...             NaN  \n",
       "873  memangnya tahapan awal penyebaran covid diselu...             NaN  \n",
       "874  new post covid cianjur menyebar kecamatan pemk...             NaN  \n",
       "875  bagaimna cara pendataannya implementasi peratu...             NaN  \n",
       "876  pembatasan akses warga dimasa psbb bandung ray...             NaN  \n",
       "\n",
       "[877 rows x 5 columns]"
      ]
     },
     "execution_count": 8,
     "metadata": {},
     "output_type": "execute_result"
    }
   ],
   "source": [
    "uncleaned_data2.to_csv(r'D:\\Kuliah\\PI\\Baru\\07tweets_hasil_hapus_stopword.csv', index=False)#Menyimpan hasil stopword"
   ]
  },
  {
   "cell_type": "code",
   "execution_count": 7,
   "metadata": {},
   "outputs": [
    {
     "ename": "IndentationError",
     "evalue": "expected an indented block (<ipython-input-7-7b630856c15b>, line 8)",
     "output_type": "error",
     "traceback": [
      "\u001b[1;36m  File \u001b[1;32m\"<ipython-input-7-7b630856c15b>\"\u001b[1;36m, line \u001b[1;32m8\u001b[0m\n\u001b[1;33m    hasil_stem = stemmer.stem(uncleaned_data2[\"hasil_stopword2\"].iloc[i])\u001b[0m\n\u001b[1;37m             ^\u001b[0m\n\u001b[1;31mIndentationError\u001b[0m\u001b[1;31m:\u001b[0m expected an indented block\n"
     ]
    }
   ],
   "source": [
    "#Stemming#\n",
    "\n",
    "from Sastrawi.Stemmer.StemmerFactory import StemmerFactory\n",
    "factory = StemmerFactory()\n",
    "stemmer = factory.create_stemmer()\n",
    "\n",
    "for i, hasil_stopword2 in enumerate (uncleaned_data2['hasil_stopword2']):\n",
    "hasil_stem = stemmer.stem(uncleaned_data2[\"hasil_stopword2\"].iloc[i])\n",
    "uncleaned_data2['hasil_stemming'].iloc[i] = (hasil_stem)"
   ]
  },
  {
   "cell_type": "code",
   "execution_count": null,
   "metadata": {},
   "outputs": [],
   "source": [
    "uncleaned_data2[[\"hasil_stemming\",\"hasil_label\"]].to_csv(r'D:\\Kuliah\\PI\\Baru\\08tweets_hasil_stemming.csv', index=False)#Menyimpan hasil stemming"
   ]
  },
  {
   "cell_type": "code",
   "execution_count": 4,
   "metadata": {},
   "outputs": [
    {
     "data": {
      "text/html": [
       "<div>\n",
       "<style scoped>\n",
       "    .dataframe tbody tr th:only-of-type {\n",
       "        vertical-align: middle;\n",
       "    }\n",
       "\n",
       "    .dataframe tbody tr th {\n",
       "        vertical-align: top;\n",
       "    }\n",
       "\n",
       "    .dataframe thead th {\n",
       "        text-align: right;\n",
       "    }\n",
       "</style>\n",
       "<table border=\"1\" class=\"dataframe\">\n",
       "  <thead>\n",
       "    <tr style=\"text-align: right;\">\n",
       "      <th></th>\n",
       "      <th>hasil_hapus_manual</th>\n",
       "      <th>hasil_label</th>\n",
       "    </tr>\n",
       "  </thead>\n",
       "  <tbody>\n",
       "    <tr>\n",
       "      <th>0</th>\n",
       "      <td>tito karnavian hasil wilayah anies baswedan tekan laju kasus covid psbb jakarta hasil jakarta terap psbb efektif kota depok nyata kunci kota depok jng</td>\n",
       "      <td>Positif</td>\n",
       "    </tr>\n",
       "    <tr>\n",
       "      <th>1</th>\n",
       "      <td>indikator makroekonomi pengaruh ekonomi dampak pandemi covid dampak ekonomi rasa lihat melambatanya tumbuh ekonomi sebab turun konsumsi rumah tangga investasi akibat psbb</td>\n",
       "      <td>Negatif</td>\n",
       "    </tr>\n",
       "    <tr>\n",
       "      <th>2</th>\n",
       "      <td>indonesia jamin beres covid sadar lapis masyarakat rendah pcr capai target ribu hari hari ribu hari perintah longgar psbb</td>\n",
       "      <td>Negatif</td>\n",
       "    </tr>\n",
       "    <tr>\n",
       "      <th>3</th>\n",
       "      <td>ubah akan jadi bisnis indonesia pandemi covid akhir laku sistem psbb putus rantai sebar virus covid masyarakat kerja giat rumah masuk kerja</td>\n",
       "      <td>Negatif</td>\n",
       "    </tr>\n",
       "    <tr>\n",
       "      <th>4</th>\n",
       "      <td>masyarakat disiplin patuh protokol sehat cegah virus covid</td>\n",
       "      <td>Positif</td>\n",
       "    </tr>\n",
       "    <tr>\n",
       "      <th>...</th>\n",
       "      <td>...</td>\n",
       "      <td>...</td>\n",
       "    </tr>\n",
       "    <tr>\n",
       "      <th>872</th>\n",
       "      <td>lihat video bapak ngamuk bogor krn tegur kait psbb boleh duduk mobil orang kaya data masuk daftar usah gubris rs lapor kena covid</td>\n",
       "      <td>Negatif</td>\n",
       "    </tr>\n",
       "    <tr>\n",
       "      <th>873</th>\n",
       "      <td>tahap awal sebar covid indonesia pandemi beres selesai tangan serang covid gelombang dua raya idul fitri serang balik covid longgar psbb sembuh sakit stres</td>\n",
       "      <td>Negatif</td>\n",
       "    </tr>\n",
       "    <tr>\n",
       "      <th>874</th>\n",
       "      <td>post covid cianjur sebar camat pemkab terap psbb parsial been on prasasti jabar</td>\n",
       "      <td>Negatif</td>\n",
       "    </tr>\n",
       "    <tr>\n",
       "      <th>875</th>\n",
       "      <td>bagaimna cara data implementasi atur psbb gorontalo duduk baik warga gorontalo datang dampak covid bingung atur bingung</td>\n",
       "      <td>Negatif</td>\n",
       "    </tr>\n",
       "    <tr>\n",
       "      <th>876</th>\n",
       "      <td>batas akses warga psbb bandung raya akses keluar masuk warga batas pihak tempat upaya salah satu cara putus rantai sebar covid portal jalan daerah laku batas akses warga</td>\n",
       "      <td>Positif</td>\n",
       "    </tr>\n",
       "  </tbody>\n",
       "</table>\n",
       "<p>877 rows × 2 columns</p>\n",
       "</div>"
      ],
      "text/plain": [
       "                                                                                                                                                             hasil_hapus_manual  \\\n",
       "0    tito karnavian hasil wilayah anies baswedan tekan laju kasus covid psbb jakarta hasil jakarta terap psbb efektif kota depok nyata kunci kota depok jng                       \n",
       "1    indikator makroekonomi pengaruh ekonomi dampak pandemi covid dampak ekonomi rasa lihat melambatanya tumbuh ekonomi sebab turun konsumsi rumah tangga investasi akibat psbb   \n",
       "2    indonesia jamin beres covid sadar lapis masyarakat rendah pcr capai target ribu hari hari ribu hari perintah longgar psbb                                                    \n",
       "3    ubah akan jadi bisnis indonesia pandemi covid akhir laku sistem psbb putus rantai sebar virus covid masyarakat kerja giat rumah masuk kerja                                  \n",
       "4    masyarakat disiplin patuh protokol sehat cegah virus covid                                                                                                                   \n",
       "..                                                          ...                                                                                                                   \n",
       "872  lihat video bapak ngamuk bogor krn tegur kait psbb boleh duduk mobil orang kaya data masuk daftar usah gubris rs lapor kena covid                                            \n",
       "873  tahap awal sebar covid indonesia pandemi beres selesai tangan serang covid gelombang dua raya idul fitri serang balik covid longgar psbb sembuh sakit stres                  \n",
       "874  post covid cianjur sebar camat pemkab terap psbb parsial been on prasasti jabar                                                                                              \n",
       "875  bagaimna cara data implementasi atur psbb gorontalo duduk baik warga gorontalo datang dampak covid bingung atur bingung                                                      \n",
       "876  batas akses warga psbb bandung raya akses keluar masuk warga batas pihak tempat upaya salah satu cara putus rantai sebar covid portal jalan daerah laku batas akses warga    \n",
       "\n",
       "    hasil_label  \n",
       "0    Positif     \n",
       "1    Negatif     \n",
       "2    Negatif     \n",
       "3    Negatif     \n",
       "4    Positif     \n",
       "..       ...     \n",
       "872  Negatif     \n",
       "873  Negatif     \n",
       "874  Negatif     \n",
       "875  Negatif     \n",
       "876  Positif     \n",
       "\n",
       "[877 rows x 2 columns]"
      ]
     },
     "execution_count": 4,
     "metadata": {},
     "output_type": "execute_result"
    }
   ],
   "source": [
    "#Mengambil data hasil hapus manual\n",
    "source=r\"D:\\Kuliah\\PI\\Baru\\09manual_cleaned_tweets.csv\"\n",
    "uncleaned_data2 = pd.read_csv(source)\n",
    "uncleaned_data2 = uncleaned_data2.drop(['kalimat_bersih'], axis=1) \n",
    "uncleaned_data2.shape\n",
    "uncleaned_data2"
   ]
  },
  {
   "cell_type": "code",
   "execution_count": null,
   "metadata": {},
   "outputs": [],
   "source": [
    "#Tokenizing#\n",
    "\n",
    "from nltk.tokenize import word_tokenize \n",
    "def word_tokenize_wrapper(text):\n",
    "    return word_tokenize(text)\n",
    "\n",
    "uncleaned_data2['tokenized_tweets'] = uncleaned_data2['hasil_hapus_manual'].apply(word_tokenize_wrapper)"
   ]
  },
  {
   "cell_type": "code",
   "execution_count": null,
   "metadata": {},
   "outputs": [],
   "source": [
    "uncleaned_data2[['tokenized_tweets','hasil_label']].to_csv(r'D:\\Kuliah\\PI\\Baru\\10cleaned_tweets.csv', index=False) #Menyimpan hasil tokenizing"
   ]
  },
  {
   "cell_type": "code",
   "execution_count": 8,
   "metadata": {},
   "outputs": [
    {
     "data": {
      "text/html": [
       "<div>\n",
       "<style scoped>\n",
       "    .dataframe tbody tr th:only-of-type {\n",
       "        vertical-align: middle;\n",
       "    }\n",
       "\n",
       "    .dataframe tbody tr th {\n",
       "        vertical-align: top;\n",
       "    }\n",
       "\n",
       "    .dataframe thead th {\n",
       "        text-align: right;\n",
       "    }\n",
       "</style>\n",
       "<table border=\"1\" class=\"dataframe\">\n",
       "  <thead>\n",
       "    <tr style=\"text-align: right;\">\n",
       "      <th></th>\n",
       "      <th>tokenized_tweets</th>\n",
       "      <th>hasil_label</th>\n",
       "    </tr>\n",
       "  </thead>\n",
       "  <tbody>\n",
       "    <tr>\n",
       "      <th>0</th>\n",
       "      <td>['tito', 'karnavian', 'hasil', 'wilayah', 'ani...</td>\n",
       "      <td>Positif</td>\n",
       "    </tr>\n",
       "    <tr>\n",
       "      <th>1</th>\n",
       "      <td>['indikator', 'makroekonomi', 'pengaruh', 'eko...</td>\n",
       "      <td>Negatif</td>\n",
       "    </tr>\n",
       "    <tr>\n",
       "      <th>2</th>\n",
       "      <td>['indonesia', 'jamin', 'beres', 'covid', 'sada...</td>\n",
       "      <td>Negatif</td>\n",
       "    </tr>\n",
       "    <tr>\n",
       "      <th>3</th>\n",
       "      <td>['ubah', 'akan', 'jadi', 'bisnis', 'indonesia'...</td>\n",
       "      <td>Negatif</td>\n",
       "    </tr>\n",
       "    <tr>\n",
       "      <th>4</th>\n",
       "      <td>['masyarakat', 'disiplin', 'patuh', 'protokol'...</td>\n",
       "      <td>Positif</td>\n",
       "    </tr>\n",
       "    <tr>\n",
       "      <th>...</th>\n",
       "      <td>...</td>\n",
       "      <td>...</td>\n",
       "    </tr>\n",
       "    <tr>\n",
       "      <th>872</th>\n",
       "      <td>['lihat', 'video', 'bapak', 'ngamuk', 'bogor',...</td>\n",
       "      <td>Negatif</td>\n",
       "    </tr>\n",
       "    <tr>\n",
       "      <th>873</th>\n",
       "      <td>['tahap', 'awal', 'sebar', 'covid', 'indonesia...</td>\n",
       "      <td>Negatif</td>\n",
       "    </tr>\n",
       "    <tr>\n",
       "      <th>874</th>\n",
       "      <td>['post', 'covid', 'cianjur', 'sebar', 'camat',...</td>\n",
       "      <td>Negatif</td>\n",
       "    </tr>\n",
       "    <tr>\n",
       "      <th>875</th>\n",
       "      <td>['bagaimna', 'cara', 'data', 'implementasi', '...</td>\n",
       "      <td>Negatif</td>\n",
       "    </tr>\n",
       "    <tr>\n",
       "      <th>876</th>\n",
       "      <td>['batas', 'akses', 'warga', 'psbb', 'bandung',...</td>\n",
       "      <td>Positif</td>\n",
       "    </tr>\n",
       "  </tbody>\n",
       "</table>\n",
       "<p>877 rows × 2 columns</p>\n",
       "</div>"
      ],
      "text/plain": [
       "                                      tokenized_tweets hasil_label\n",
       "0    ['tito', 'karnavian', 'hasil', 'wilayah', 'ani...     Positif\n",
       "1    ['indikator', 'makroekonomi', 'pengaruh', 'eko...     Negatif\n",
       "2    ['indonesia', 'jamin', 'beres', 'covid', 'sada...     Negatif\n",
       "3    ['ubah', 'akan', 'jadi', 'bisnis', 'indonesia'...     Negatif\n",
       "4    ['masyarakat', 'disiplin', 'patuh', 'protokol'...     Positif\n",
       "..                                                 ...         ...\n",
       "872  ['lihat', 'video', 'bapak', 'ngamuk', 'bogor',...     Negatif\n",
       "873  ['tahap', 'awal', 'sebar', 'covid', 'indonesia...     Negatif\n",
       "874  ['post', 'covid', 'cianjur', 'sebar', 'camat',...     Negatif\n",
       "875  ['bagaimna', 'cara', 'data', 'implementasi', '...     Negatif\n",
       "876  ['batas', 'akses', 'warga', 'psbb', 'bandung',...     Positif\n",
       "\n",
       "[877 rows x 2 columns]"
      ]
     },
     "execution_count": 8,
     "metadata": {},
     "output_type": "execute_result"
    }
   ],
   "source": [
    "#Mengambil data bersih\n",
    "\n",
    "source=r\"D:\\Kuliah\\PI\\Baru\\10cleaned_tweets.csv\"\n",
    "cleaned_data = pd.read_csv(source)\n",
    "cleaned_data.shape\n",
    "cleaned_data"
   ]
  },
  {
   "cell_type": "code",
   "execution_count": 9,
   "metadata": {},
   "outputs": [],
   "source": [
    "from sklearn import model_selection\n",
    "from sklearn.model_selection import train_test_split"
   ]
  },
  {
   "cell_type": "code",
   "execution_count": 10,
   "metadata": {},
   "outputs": [
    {
     "name": "stdout",
     "output_type": "stream",
     "text": [
      "Pembagian 70 30 selesai\n"
     ]
    }
   ],
   "source": [
    "#Pembagian Data Latih dan Data Uji#\n",
    "\n",
    "\n",
    "\n",
    "x_train70, x_test30, y_train70, y_test30 = model_selection.train_test_split(cleaned_data['tokenized_tweets'], cleaned_data['hasil_label'], test_size = 0.3, random_state = 0)\n",
    "\n",
    "#train_df70 = pd.DataFrame()\n",
    "#train_df70['kalimat'] = x_train70\n",
    "#train_df70['sentimen'] = y_train70\n",
    "#train_df70.to_csv(r'D:\\Kuliah\\PI\\Baru\\Pre Train Data 2\\Train_Data7030.csv', index=False)\n",
    "\n",
    "#test_df30 = pd.DataFrame()\n",
    "#test_df30['kalimat'] = x_test30\n",
    "#test_df30['sentimen'] = y_test30\n",
    "#test_df30.to_csv(r'D:\\Kuliah\\PI\\Baru\\Pre Train Data 2\\Test_Data7030.csv', index=False)\n",
    "\n",
    "print('Pembagian 70 30 selesai')"
   ]
  },
  {
   "cell_type": "code",
   "execution_count": 13,
   "metadata": {},
   "outputs": [
    {
     "data": {
      "text/plain": [
       "235    ['rapat', 'koordinasi', 'gugus', 'tugas', 'men...\n",
       "428    ['wali', 'kota', 'bekas', 'rahmat', 'effendi',...\n",
       "241    ['relaksasi', 'psbb', 'bukti', 'perintah', 'pu...\n",
       "344    ['laksana', 'psbb', 'perintah', 'sampai', 'nar...\n",
       "795    ['psbb', 'jakarta', 'situasi', 'jakarta', 'ten...\n",
       "                             ...                        \n",
       "835    ['marwan', 'jelas', 'tuntas', 'pandemi', 'covi...\n",
       "192    ['polri', 'sat', 'lantas', 'jaktim', 'dishub',...\n",
       "629    ['buka', 'tempat', 'akibat', 'terap', 'psbb', ...\n",
       "559    ['jumlah', 'provinsi', 'alami', 'lambat', 'cov...\n",
       "684    ['perintah', 'provinsi', 'terap', 'psbb', 'har...\n",
       "Name: tokenized_tweets, Length: 613, dtype: object"
      ]
     },
     "execution_count": 13,
     "metadata": {},
     "output_type": "execute_result"
    }
   ],
   "source": [
    "x_train70"
   ]
  },
  {
   "cell_type": "code",
   "execution_count": 11,
   "metadata": {
    "jupyter": {
     "source_hidden": true
    }
   },
   "outputs": [],
   "source": [
    "#Mengambil data yang sudah dibagi\n",
    "\n",
    "source1=r'D:\\Kuliah\\PI\\Baru\\Pre Train Data 2\\Train_Data7030.csv'\n",
    "train70 = pd.read_csv(source1)\n",
    "source2=r'D:\\Kuliah\\PI\\Baru\\Pre Train Data 2\\Test_Data7030.csv'\n",
    "test30 = pd.read_csv(source2)\n",
    "\n",
    "x_train70 = train70['kalimat']\n",
    "y_train70 = train70['sentimen']\n",
    "x_test30 = test30['kalimat']\n",
    "y_test30 =test30['sentimen']"
   ]
  },
  {
   "cell_type": "code",
   "execution_count": 11,
   "metadata": {},
   "outputs": [],
   "source": [
    "from sklearn.feature_extraction.text import TfidfVectorizer\n",
    "import pickle"
   ]
  },
  {
   "cell_type": "code",
   "execution_count": 12,
   "metadata": {},
   "outputs": [],
   "source": [
    "#Proses Pembobotan Kata TF-IDF\"\n",
    "\n",
    "tfidf_vect = TfidfVectorizer(use_idf=True)\n",
    "corpus = cleaned_data['tokenized_tweets']\n",
    "x = tfidf_vect.fit(corpus)\n",
    "\n",
    "x_train_tfidf70 = x.transform(x_train70)\n",
    "x_test_tfidf30 = x.transform(x_test30)"
   ]
  },
  {
   "cell_type": "code",
   "execution_count": 12,
   "metadata": {},
   "outputs": [],
   "source": [
    "#Menyimpan hasil vectorizer\n",
    "\n",
    "with open(r'D:\\Kuliah\\PI\\Baru\\tfidf_vect.pkl', 'wb') as handle:\n",
    "                    pickle.dump(x, handle)"
   ]
  },
  {
   "cell_type": "code",
   "execution_count": 9,
   "metadata": {},
   "outputs": [],
   "source": [
    "tfidf_vect = pickle.load(open(r'D:\\Kuliah\\PI\\Baru\\tfidf_vect.pkl', \"rb\" ))"
   ]
  },
  {
   "cell_type": "code",
   "execution_count": 10,
   "metadata": {},
   "outputs": [
    {
     "data": {
      "text/plain": [
       "TfidfVectorizer(analyzer='word', binary=False, decode_error='strict',\n",
       "                dtype=<class 'numpy.float64'>, encoding='utf-8',\n",
       "                input='content', lowercase=True, max_df=1.0, max_features=None,\n",
       "                min_df=1, ngram_range=(1, 1), norm='l2', preprocessor=None,\n",
       "                smooth_idf=True, stop_words=None, strip_accents=None,\n",
       "                sublinear_tf=False, token_pattern='(?u)\\\\b\\\\w\\\\w+\\\\b',\n",
       "                tokenizer=None, use_idf=True, vocabulary=None)"
      ]
     },
     "execution_count": 10,
     "metadata": {},
     "output_type": "execute_result"
    }
   ],
   "source": [
    "tfidf_vect"
   ]
  },
  {
   "cell_type": "code",
   "execution_count": 17,
   "metadata": {},
   "outputs": [
    {
     "data": {
      "text/plain": [
       "<264x2411 sparse matrix of type '<class 'numpy.float64'>'\n",
       "\twith 3727 stored elements in Compressed Sparse Row format>"
      ]
     },
     "execution_count": 17,
     "metadata": {},
     "output_type": "execute_result"
    }
   ],
   "source": [
    "x_train_tfidf70\n",
    "x_test_tfidf30"
   ]
  },
  {
   "cell_type": "code",
   "execution_count": 17,
   "metadata": {},
   "outputs": [],
   "source": [
    "#Membuat dan menyimpan tabel berisi hasil TFIDF\n",
    "\n",
    "df = pd.DataFrame(x_train_tfidf70.toarray(),columns =tfidf_vect.get_feature_names())\n",
    "df.to_csv(r'D:\\Kuliah\\PI\\Baru\\Pre Train Data 2\\TFIDF_Train_Data.csv',index=False)\n",
    "df2 = pd.DataFrame(x_test_tfidf30.toarray(),columns =tfidf_vect.get_feature_names())\n",
    "df2.to_csv(r'D:\\Kuliah\\PI\\Baru\\Pre Train Data 2\\TFIDF_Test_Data.csv',index=False)"
   ]
  },
  {
   "cell_type": "markdown",
   "metadata": {},
   "source": [
    "## > Tahap Processing"
   ]
  },
  {
   "cell_type": "code",
   "execution_count": 5,
   "metadata": {},
   "outputs": [],
   "source": [
    "from sklearn import svm"
   ]
  },
  {
   "cell_type": "code",
   "execution_count": 14,
   "metadata": {},
   "outputs": [
    {
     "ename": "NameError",
     "evalue": "name 'x_train_tfidf70' is not defined",
     "output_type": "error",
     "traceback": [
      "\u001b[1;31m---------------------------------------------------------------------------\u001b[0m",
      "\u001b[1;31mNameError\u001b[0m                                 Traceback (most recent call last)",
      "\u001b[1;32m<ipython-input-14-a54117953c89>\u001b[0m in \u001b[0;36m<module>\u001b[1;34m\u001b[0m\n\u001b[0;32m      2\u001b[0m \u001b[1;33m\u001b[0m\u001b[0m\n\u001b[0;32m      3\u001b[0m \u001b[0mSVM70\u001b[0m \u001b[1;33m=\u001b[0m \u001b[0msvm\u001b[0m\u001b[1;33m.\u001b[0m\u001b[0mSVC\u001b[0m\u001b[1;33m(\u001b[0m\u001b[0mkernel\u001b[0m\u001b[1;33m=\u001b[0m\u001b[1;34m'linear'\u001b[0m\u001b[1;33m)\u001b[0m\u001b[1;33m\u001b[0m\u001b[1;33m\u001b[0m\u001b[0m\n\u001b[1;32m----> 4\u001b[1;33m \u001b[0mSVM70\u001b[0m\u001b[1;33m.\u001b[0m\u001b[0mfit\u001b[0m\u001b[1;33m(\u001b[0m\u001b[0mx_train_tfidf70\u001b[0m\u001b[1;33m,\u001b[0m\u001b[0my_train70\u001b[0m\u001b[1;33m)\u001b[0m\u001b[1;33m\u001b[0m\u001b[1;33m\u001b[0m\u001b[0m\n\u001b[0m",
      "\u001b[1;31mNameError\u001b[0m: name 'x_train_tfidf70' is not defined"
     ]
    }
   ],
   "source": [
    "#Melatih Data#\n",
    "\n",
    "SVM70 = svm.SVC(kernel='linear')\n",
    "SVM70.fit(x_train_tfidf70,y_train70)"
   ]
  },
  {
   "cell_type": "code",
   "execution_count": 23,
   "metadata": {},
   "outputs": [],
   "source": [
    "#Menyimpan model klasifikasi hasil training\n",
    "with open(r'D:\\Kuliah\\PI\\Baru\\trained_svm_model.pkl', 'wb') as handle:\n",
    "                    pickle.dump(SVM70, handle)"
   ]
  },
  {
   "cell_type": "code",
   "execution_count": 18,
   "metadata": {},
   "outputs": [],
   "source": [
    "#Load model klasifikasi hasil training\n",
    "SVM70 = pickle.load(open(r'D:\\Kuliah\\PI\\Baru\\trained_svm_model.pkl', \"rb\" ))"
   ]
  },
  {
   "cell_type": "code",
   "execution_count": 19,
   "metadata": {},
   "outputs": [],
   "source": [
    "#Pengujian Data#\n",
    "\n",
    "predictions_SVM30 = SVM70.predict(x_test_tfidf30) #Melakukan pengujian data dengan menggunakan data uji "
   ]
  },
  {
   "cell_type": "code",
   "execution_count": 20,
   "metadata": {},
   "outputs": [
    {
     "data": {
      "text/html": [
       "<div>\n",
       "<style scoped>\n",
       "    .dataframe tbody tr th:only-of-type {\n",
       "        vertical-align: middle;\n",
       "    }\n",
       "\n",
       "    .dataframe tbody tr th {\n",
       "        vertical-align: top;\n",
       "    }\n",
       "\n",
       "    .dataframe thead th {\n",
       "        text-align: right;\n",
       "    }\n",
       "</style>\n",
       "<table border=\"1\" class=\"dataframe\">\n",
       "  <thead>\n",
       "    <tr style=\"text-align: right;\">\n",
       "      <th></th>\n",
       "      <th>kalimat</th>\n",
       "      <th>sentimen</th>\n",
       "      <th>prediksi</th>\n",
       "    </tr>\n",
       "  </thead>\n",
       "  <tbody>\n",
       "    <tr>\n",
       "      <th>0</th>\n",
       "      <td>['media', 'angka', 'mati', 'covid', 'tingkat', 'berita', 'bikin', 'stres', 'bikin', 'berita', 'senang', 'media', 'angka', 'sembuh', 'covid', 'besar', 'ketimbang', 'angka', 'mati', 'psbb', 'hirau', 'diam', 'diam', 'mudik', 'main', 'rumah', 'pacar', 'bikin', 'konten', 'pas', 'sahur']</td>\n",
       "      <td>Negatif</td>\n",
       "      <td>Negatif</td>\n",
       "    </tr>\n",
       "    <tr>\n",
       "      <th>1</th>\n",
       "      <td>['teman', 'praja', 'mendagri', 'tito', 'karnavian', 'laku', 'koordinasi', 'monitoring', 'langsung', 'tangan', 'covid', 'masuk', 'bijak', 'psbb', 'ambil', 'perintah', 'kota', 'depok']</td>\n",
       "      <td>Positif</td>\n",
       "      <td>Positif</td>\n",
       "    </tr>\n",
       "    <tr>\n",
       "      <th>2</th>\n",
       "      <td>['aceh', 'ini', 'bebes', 'tular', 'covid', 'lokal', 'salah', 'satu', 'syarat', 'psbb']</td>\n",
       "      <td>Positif</td>\n",
       "      <td>Negatif</td>\n",
       "    </tr>\n",
       "    <tr>\n",
       "      <th>3</th>\n",
       "      <td>['selamat', 'sehat', 'aman', 'penting', 'kita', 'ingat', 'psbb', 'gera', 'jaga', 'jarak', 'efektif', 'tuju', 'putus', 'rantai', 'tular', 'covid']</td>\n",
       "      <td>Positif</td>\n",
       "      <td>Positif</td>\n",
       "    </tr>\n",
       "    <tr>\n",
       "      <th>4</th>\n",
       "      <td>['hari', 'psbb', 'tambah', 'kasus', 'konfirmasi', 'covid', 'jatim', 'landai']</td>\n",
       "      <td>Positif</td>\n",
       "      <td>Positif</td>\n",
       "    </tr>\n",
       "    <tr>\n",
       "      <th>...</th>\n",
       "      <td>...</td>\n",
       "      <td>...</td>\n",
       "      <td>...</td>\n",
       "    </tr>\n",
       "    <tr>\n",
       "      <th>259</th>\n",
       "      <td>['it', 'atur', 'serentak', 'atas', 'psbb', 'covid', 'masing', 'swasta', 'buka', 'ruang', 'rapat', 'osis', 'terima', 'undang']</td>\n",
       "      <td>Negatif</td>\n",
       "      <td>Positif</td>\n",
       "    </tr>\n",
       "    <tr>\n",
       "      <th>260</th>\n",
       "      <td>['indonesia', 'hati', 'hati', 'longgar', 'psbb', 'ajar', 'negara', 'buru', 'buru', 'longgar', 'lockdown']</td>\n",
       "      <td>Positif</td>\n",
       "      <td>Positif</td>\n",
       "    </tr>\n",
       "    <tr>\n",
       "      <th>261</th>\n",
       "      <td>['salam', 'hari', 'satu', 'lawan', 'covid', 'kawal', 'psbb', 'batas', 'sosial', 'skala', 'besar', 'hari', 'rumah', 'jaga', 'nkri', 'tuan', 'korona']</td>\n",
       "      <td>Positif</td>\n",
       "      <td>Positif</td>\n",
       "    </tr>\n",
       "    <tr>\n",
       "      <th>262</th>\n",
       "      <td>['jumlah', 'kasus', 'positif', 'covid', 'malang', 'terus', 'tingkat', 'rekomendasi', 'batas', 'sosial', 'skala', 'besar', 'psbb', 'psbb', 'lengkap', 'klik']</td>\n",
       "      <td>Negatif</td>\n",
       "      <td>Positif</td>\n",
       "    </tr>\n",
       "    <tr>\n",
       "      <th>263</th>\n",
       "      <td>['palembang', 'catat', 'kasus', 'covid', 'tular', 'lokal']</td>\n",
       "      <td>Negatif</td>\n",
       "      <td>Positif</td>\n",
       "    </tr>\n",
       "  </tbody>\n",
       "</table>\n",
       "<p>264 rows × 3 columns</p>\n",
       "</div>"
      ],
      "text/plain": [
       "                                                                                                                                                                                                                                                                                        kalimat  \\\n",
       "0    ['media', 'angka', 'mati', 'covid', 'tingkat', 'berita', 'bikin', 'stres', 'bikin', 'berita', 'senang', 'media', 'angka', 'sembuh', 'covid', 'besar', 'ketimbang', 'angka', 'mati', 'psbb', 'hirau', 'diam', 'diam', 'mudik', 'main', 'rumah', 'pacar', 'bikin', 'konten', 'pas', 'sahur']   \n",
       "1    ['teman', 'praja', 'mendagri', 'tito', 'karnavian', 'laku', 'koordinasi', 'monitoring', 'langsung', 'tangan', 'covid', 'masuk', 'bijak', 'psbb', 'ambil', 'perintah', 'kota', 'depok']                                                                                                       \n",
       "2    ['aceh', 'ini', 'bebes', 'tular', 'covid', 'lokal', 'salah', 'satu', 'syarat', 'psbb']                                                                                                                                                                                                       \n",
       "3    ['selamat', 'sehat', 'aman', 'penting', 'kita', 'ingat', 'psbb', 'gera', 'jaga', 'jarak', 'efektif', 'tuju', 'putus', 'rantai', 'tular', 'covid']                                                                                                                                            \n",
       "4    ['hari', 'psbb', 'tambah', 'kasus', 'konfirmasi', 'covid', 'jatim', 'landai']                                                                                                                                                                                                                \n",
       "..                                                                             ...                                                                                                                                                                                                                \n",
       "259  ['it', 'atur', 'serentak', 'atas', 'psbb', 'covid', 'masing', 'swasta', 'buka', 'ruang', 'rapat', 'osis', 'terima', 'undang']                                                                                                                                                                \n",
       "260  ['indonesia', 'hati', 'hati', 'longgar', 'psbb', 'ajar', 'negara', 'buru', 'buru', 'longgar', 'lockdown']                                                                                                                                                                                    \n",
       "261  ['salam', 'hari', 'satu', 'lawan', 'covid', 'kawal', 'psbb', 'batas', 'sosial', 'skala', 'besar', 'hari', 'rumah', 'jaga', 'nkri', 'tuan', 'korona']                                                                                                                                         \n",
       "262  ['jumlah', 'kasus', 'positif', 'covid', 'malang', 'terus', 'tingkat', 'rekomendasi', 'batas', 'sosial', 'skala', 'besar', 'psbb', 'psbb', 'lengkap', 'klik']                                                                                                                                 \n",
       "263  ['palembang', 'catat', 'kasus', 'covid', 'tular', 'lokal']                                                                                                                                                                                                                                   \n",
       "\n",
       "    sentimen prediksi  \n",
       "0    Negatif  Negatif  \n",
       "1    Positif  Positif  \n",
       "2    Positif  Negatif  \n",
       "3    Positif  Positif  \n",
       "4    Positif  Positif  \n",
       "..       ...      ...  \n",
       "259  Negatif  Positif  \n",
       "260  Positif  Positif  \n",
       "261  Positif  Positif  \n",
       "262  Negatif  Positif  \n",
       "263  Negatif  Positif  \n",
       "\n",
       "[264 rows x 3 columns]"
      ]
     },
     "execution_count": 20,
     "metadata": {},
     "output_type": "execute_result"
    }
   ],
   "source": [
    "#Membuat tabel hasil pengujian\n",
    "prediksi7030 = pd.DataFrame()\n",
    "prediksi7030['kalimat'] = x_test30\n",
    "prediksi7030['sentimen'] = y_test30\n",
    "prediksi7030['prediksi'] = predictions_SVM30\n",
    "prediksi7030"
   ]
  },
  {
   "cell_type": "code",
   "execution_count": 85,
   "metadata": {},
   "outputs": [],
   "source": [
    "prediksi7030.to_csv(r'D:\\Kuliah\\PI\\Baru\\Hasil SVM\\11Prediksi Data Uji.csv', index=False)#Menyimpan tabel hasil pengujian"
   ]
  },
  {
   "cell_type": "markdown",
   "metadata": {},
   "source": [
    "## > Evaluasi"
   ]
  },
  {
   "cell_type": "code",
   "execution_count": 6,
   "metadata": {},
   "outputs": [],
   "source": [
    "from sklearn.metrics import accuracy_score\n",
    "from sklearn.metrics import classification_report"
   ]
  },
  {
   "cell_type": "code",
   "execution_count": 22,
   "metadata": {},
   "outputs": [
    {
     "data": {
      "text/plain": [
       "78.8"
      ]
     },
     "execution_count": 22,
     "metadata": {},
     "output_type": "execute_result"
    }
   ],
   "source": [
    "#Mencari akurasi pengujian\n",
    "\n",
    "svm_accuracy7030 = accuracy_score(predictions_SVM30, y_test30)*100\n",
    "svm_accuracy7030 = round(svm_accuracy7030,1)\n",
    "svm_accuracy7030"
   ]
  },
  {
   "cell_type": "code",
   "execution_count": 23,
   "metadata": {},
   "outputs": [
    {
     "name": "stdout",
     "output_type": "stream",
     "text": [
      "              precision    recall  f1-score   support\n",
      "\n",
      "     Negatif       0.83      0.59      0.69       105\n",
      "     Positif       0.77      0.92      0.84       159\n",
      "\n",
      "    accuracy                           0.79       264\n",
      "   macro avg       0.80      0.75      0.76       264\n",
      "weighted avg       0.79      0.79      0.78       264\n",
      "\n"
     ]
    }
   ],
   "source": [
    "#Mencari precision, recall, dan f1-score\n",
    "\n",
    "print(classification_report(y_test30, predictions_SVM30))"
   ]
  },
  {
   "cell_type": "markdown",
   "metadata": {},
   "source": [
    "## > Visualisasi"
   ]
  },
  {
   "cell_type": "code",
   "execution_count": 4,
   "metadata": {},
   "outputs": [],
   "source": [
    "jml_prediksi_negatif30 = len(prediksi7030[prediksi7030['prediksi'].str.contains('Negatif')]) #Menghitung banyaknya data hasil prediksi negatif\n",
    "jml_prediksi_positif30 = len(prediksi7030[prediksi7030['prediksi'].str.contains('Positif')]) #Menghitung banyaknya data hasil prediksi positif\n",
    "jml_sentimen_negatif30 = len(prediksi7030[prediksi7030['sentimen'].str.contains('Negatif')]) #Menghitung banyaknya data label negatif\n",
    "jml_sentimen_positif30 = len(prediksi7030[prediksi7030['sentimen'].str.contains('Positif')]) #Menghitung banyaknya data label positif"
   ]
  },
  {
   "cell_type": "code",
   "execution_count": 9,
   "metadata": {},
   "outputs": [
    {
     "data": {
      "image/png": "[encoded data removed]",
      "text/plain": [
       "<Figure size 432x288 with 1 Axes>"
      ]
     },
     "metadata": {},
     "output_type": "display_data"
    }
   ],
   "source": [
    "#Membuat pie chart dari hasil prediksi\n",
    "\n",
    "labels = 'Positif', 'Negatif'\n",
    "sizes = [jml_prediksi_positif30, jml_prediksi_negatif30]\n",
    "colors = ['#2bf277','#ff2b2b']\n",
    "\n",
    "def make_autopct(sizes):\n",
    "    def my_autopct(pct):\n",
    "        total = sum(sizes)\n",
    "        val = int(round(pct*total/100.0))\n",
    "        return '{p:.2f}%  ({v:d})'.format(p=pct,v=val)\n",
    "    return my_autopct\n",
    "\n",
    "fig, ax = plt.subplots()\n",
    "explode = (0, 0.1)  \n",
    "ax.pie(sizes, colors=colors, labels=labels, explode=explode, autopct=make_autopct(sizes),shadow=True, startangle=90)\n",
    "ax.axis('equal') \n",
    "ax.legend(labels, loc = 'upper left') \n",
    "plt.title(\"Hasil Prediksi Sentimen PSBB COVID-19\", fontsize = 20)\n",
    "plt.savefig(r'D:\\Kuliah\\PI\\Baru\\Hasil SVM\\Gambar Presentase Hasil Prediksi.png')\n",
    "plt.show()"
   ]
  },
  {
   "cell_type": "code",
   "execution_count": 87,
   "metadata": {},
   "outputs": [
    {
     "data": {
      "image/png": "[encoded data removed]",
      "text/plain": [
       "<Figure size 432x288 with 1 Axes>"
      ]
     },
     "metadata": {},
     "output_type": "display_data"
    }
   ],
   "source": [
    "#Membuat pie chart dari label data uji\n",
    "\n",
    "labels = 'Positif', 'Negatif'\n",
    "sizes = [jml_sentimen_positif30, jml_sentimen_negatif30]\n",
    "colors = ['#62fc6a', '#f93131']\n",
    "\n",
    "def make_autopct(sizes):\n",
    "    def my_autopct(pct):\n",
    "        total = sum(sizes)\n",
    "        val = int(round(pct*total/100.0))\n",
    "        return '{p:.2f}%  ({v:d})'.format(p=pct,v=val)\n",
    "    return my_autopct\n",
    "\n",
    "fig1, ax1 = plt.subplots()\n",
    "ax1.pie(sizes, colors=colors, labels=labels, explode=explode, autopct=make_autopct(sizes),shadow=True, startangle=90)\n",
    "ax1.axis('equal') \n",
    "ax1.legend(labels, loc = 'upper left') \n",
    "plt.title(\"Label Data Uji PSBB COVID-19\", fontsize = 20) \n",
    "plt.savefig(r'D:\\Kuliah\\PI\\Baru\\Hasil SVM\\Gambar Presentase Label Data Uji.png')\n",
    "plt.show()"
   ]
  }
 ],
 "metadata": {
  "kernelspec": {
   "display_name": "Python 3",
   "language": "python",
   "name": "python3"
  },
  "language_info": {
   "codemirror_mode": {
    "name": "ipython",
    "version": 3
   },
   "file_extension": ".py",
   "mimetype": "text/x-python",
   "name": "python",
   "nbconvert_exporter": "python",
   "pygments_lexer": "ipython3",
   "version": "3.7.6"
  }
 },
 "nbformat": 4,
 "nbformat_minor": 4
}
